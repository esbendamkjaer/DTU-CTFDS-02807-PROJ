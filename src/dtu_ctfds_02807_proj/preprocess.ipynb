{
 "cells": [
  {
   "cell_type": "code",
   "execution_count": 2,
   "metadata": {},
   "outputs": [
    {
     "name": "stdout",
     "output_type": "stream",
     "text": [
      "Already been executed once, not running again!\n"
     ]
    }
   ],
   "source": [
    "from dtu_ctfds_02807_proj.context_creation import create_context\n",
    "\n",
    "local = True\n",
    "sc, spark = create_context(local)"
   ]
  },
  {
   "cell_type": "code",
   "execution_count": null,
   "metadata": {},
   "outputs": [],
   "source": [
    "from pyspark.sql.types import StructType, StructField, StringType, IntegerType, FloatType, BooleanType, LongType, DoubleType, ArrayType, DateType\n",
    "from pyspark.sql.functions import from_json, col\n",
    "from pyspark.sql.types import ArrayType, StringType, MapType, IntegerType"
   ]
  },
  {
   "cell_type": "code",
   "execution_count": null,
   "metadata": {},
   "outputs": [],
   "source": [
    "review_schema = StructType([\n",
    "    StructField(\"index\", IntegerType(), True),\n",
    "    StructField(\"app_id\", LongType(), True),\n",
    "    StructField(\"app_name\", StringType(), True),\n",
    "    StructField(\"review_id\", LongType(), True),\n",
    "    StructField(\"language\", StringType(), True),\n",
    "    StructField(\"review\", StringType(), True),\n",
    "    StructField(\"timestamp_created\", IntegerType(), True),\n",
    "    StructField(\"timestamp_updated\", IntegerType(), True),\n",
    "    StructField(\"recommended\", BooleanType(), True),\n",
    "    StructField(\"votes_helpful\", IntegerType(), True),\n",
    "    StructField(\"votes_funny\", IntegerType(), True),\n",
    "    StructField(\"weighted_vote_score\", DoubleType(), True),\n",
    "    StructField(\"comment_count\", IntegerType(), True),\n",
    "    StructField(\"steam_purchase\", BooleanType(), True),\n",
    "    StructField(\"received_for_free\", BooleanType(), True),\n",
    "    StructField(\"written_during_early_access\", BooleanType(), True),\n",
    "    StructField(\"author_steamid\", LongType(), True),\n",
    "    StructField(\"author_num_games_owned\", IntegerType(), True),\n",
    "    StructField(\"author_num_reviews\", IntegerType(), True),\n",
    "    StructField(\"author_playtime_forever\", DoubleType(), True),\n",
    "    StructField(\"author_playtime_last_two_weeks\", DoubleType(), True),\n",
    "    StructField(\"author_playtime_at_review\", DoubleType(), True),\n",
    "    StructField(\"author_last_played\", DoubleType(), True)\n",
    "])"
   ]
  },
  {
   "cell_type": "code",
   "execution_count": null,
   "metadata": {},
   "outputs": [],
   "source": [
    "game_schema = StructType([\n",
    "    StructField(\"AppID\", IntegerType(), True),\n",
    "    StructField(\"name\", StringType(), True),\n",
    "    StructField(\"release_date\", DateType(), True),\n",
    "    StructField(\"required_age\", IntegerType(), True),\n",
    "    StructField(\"price\", FloatType(), True),\n",
    "    StructField(\"dlc_count\", IntegerType(), True),\n",
    "    StructField(\"detailed_description\", StringType(), True),\n",
    "    StructField(\"about_the_game\", StringType(), True),\n",
    "    StructField(\"short_description\", StringType(), True),\n",
    "    StructField(\"reviews\", StringType(), True),\n",
    "    StructField(\"header_image\", StringType(), True),\n",
    "    StructField(\"website\", StringType(), True),\n",
    "    StructField(\"support_url\", StringType(), True),\n",
    "    StructField(\"support_email\", StringType(), True),\n",
    "    StructField(\"windows\", BooleanType(), True),\n",
    "    StructField(\"mac\", BooleanType(), True),\n",
    "    StructField(\"linux\", BooleanType(), True),\n",
    "    StructField(\"metacritic_score\", IntegerType(), True),\n",
    "    StructField(\"metacritic_url\", StringType(), True),\n",
    "    StructField(\"achievements\", IntegerType(), True),\n",
    "    StructField(\"recommendations\", IntegerType(), True),\n",
    "    StructField(\"notes\", StringType(), True),\n",
    "    StructField(\"supported_languages\", ArrayType(StringType()), True),  # Parsed from JSON\n",
    "    StructField(\"full_audio_languages\", ArrayType(StringType()), True),  # Parsed from JSON\n",
    "    StructField(\"packages\", ArrayType(StringType()), True),  # Parsed from JSON\n",
    "    StructField(\"developers\", ArrayType(StringType()), True),  # Parsed from JSON\n",
    "    StructField(\"publishers\", ArrayType(StringType()), True),  # Parsed from JSON\n",
    "    StructField(\"categories\", ArrayType(StringType()), True),  # Parsed from JSON\n",
    "    StructField(\"genres\", ArrayType(StringType()), True),  # Parsed from JSON\n",
    "    StructField(\"screenshots\", ArrayType(StringType()), True),  # Parsed from JSON\n",
    "    StructField(\"movies\", ArrayType(StringType()), True),  # Parsed from JSON\n",
    "    StructField(\"user_score\", FloatType(), True),\n",
    "    StructField(\"score_rank\", IntegerType(), True),\n",
    "    StructField(\"positive\", IntegerType(), True),\n",
    "    StructField(\"negative\", IntegerType(), True),\n",
    "    StructField(\"estimated_owners\", StringType(), True),\n",
    "    StructField(\"average_playtime_forever\", IntegerType(), True),\n",
    "    StructField(\"average_playtime_2weeks\", IntegerType(), True),\n",
    "    StructField(\"median_playtime_forever\", IntegerType(), True),\n",
    "    StructField(\"median_playtime_2weeks\", IntegerType(), True),\n",
    "    StructField(\"peak_ccu\", IntegerType(), True),\n",
    "    StructField(\"tags\", MapType(StringType(), IntegerType()), True),  # Parsed from JSON\n",
    "    StructField(\"pct_pos_total\", IntegerType(), True),\n",
    "    StructField(\"num_reviews_total\", IntegerType(), True),\n",
    "    StructField(\"pct_pos_recent\", IntegerType(), True),\n",
    "    StructField(\"num_reviews_recent\", IntegerType(), True)\n",
    "])"
   ]
  },
  {
   "cell_type": "code",
   "execution_count": null,
   "metadata": {},
   "outputs": [],
   "source": [
    "\n",
    "games = spark\\\n",
    "    .read\\\n",
    "    .option(\"escapeQuotes\", \"true\")\\\n",
    "    .csv('data/steam_games_flattened.csv', header=True, schema=game_schema, quote='\"', escape='\"')\n",
    "\n",
    "game_reviews = spark\\\n",
    "    .read\\\n",
    "    .option(\"escapeQuotes\", \"true\")\\\n",
    "    .csv('data/steam_game_reviews_flattened.csv', header=True, schema=game_schema, quote='\"', escape='\"')"
   ]
  },
  {
   "cell_type": "code",
   "execution_count": null,
   "metadata": {},
   "outputs": [],
   "source": [
    "array_schema = ArrayType(StringType())\n",
    "map_schema = MapType(StringType(), IntegerType())\n",
    "\n",
    "# Parse the JSON fields\n",
    "games = games.withColumn(\"supported_languages\", from_json(col(\"supported_languages\"), array_schema)) \\\n",
    "       .withColumn(\"full_audio_languages\", from_json(col(\"full_audio_languages\"), array_schema)) \\\n",
    "       .withColumn(\"packages\", from_json(col(\"packages\"), array_schema)) \\\n",
    "       .withColumn(\"developers\", from_json(col(\"developers\"), array_schema)) \\\n",
    "       .withColumn(\"publishers\", from_json(col(\"publishers\"), array_schema)) \\\n",
    "       .withColumn(\"categories\", from_json(col(\"categories\"), array_schema)) \\\n",
    "       .withColumn(\"genres\", from_json(col(\"genres\"), array_schema)) \\\n",
    "       .withColumn(\"screenshots\", from_json(col(\"screenshots\"), array_schema)) \\\n",
    "       .withColumn(\"movies\", from_json(col(\"movies\"), array_schema)) \\\n",
    "       .withColumn(\"tags\", from_json(col(\"tags\"), map_schema))\n"
   ]
  },
  {
   "cell_type": "code",
   "execution_count": null,
   "metadata": {},
   "outputs": [],
   "source": [
    "games\\\n",
    "    .write\\\n",
    "    .parquet('data/steam_games_parquet')"
   ]
  },
  {
   "cell_type": "code",
   "execution_count": null,
   "metadata": {},
   "outputs": [],
   "source": [
    "game_reviews_sample = game_reviews.sample(False, 100000/(21 * 10 ** 6), seed=1234)\n",
    "game_reviews_sample = game_reviews_sample.persist()"
   ]
  },
  {
   "cell_type": "code",
   "execution_count": null,
   "metadata": {},
   "outputs": [],
   "source": [
    "game_reviews.write.parquet(\"file:////work/ds/steam_reviews_parquet\")\n",
    "games.write.parquet(\"file:////work/ds/steam_games_parquet\")\n",
    "game_reviews_sample.write.parquet(\"file:////work/ds/steam_reviews_sample_parquet\")"
   ]
  }
 ],
 "metadata": {
  "kernelspec": {
   "display_name": ".venv",
   "language": "python",
   "name": "python3"
  },
  "language_info": {
   "codemirror_mode": {
    "name": "ipython",
    "version": 3
   },
   "file_extension": ".py",
   "mimetype": "text/x-python",
   "name": "python",
   "nbconvert_exporter": "python",
   "pygments_lexer": "ipython3",
   "version": "3.13.0"
  }
 },
 "nbformat": 4,
 "nbformat_minor": 2
}
