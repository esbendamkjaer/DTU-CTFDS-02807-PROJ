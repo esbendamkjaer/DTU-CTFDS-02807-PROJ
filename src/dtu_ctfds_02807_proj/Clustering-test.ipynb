{
 "cells": [
  {
   "cell_type": "markdown",
   "metadata": {},
   "source": [
    "## Clustering"
   ]
  },
  {
   "cell_type": "code",
   "execution_count": 3,
   "metadata": {},
   "outputs": [
    {
     "name": "stdout",
     "output_type": "stream",
     "text": [
      "Already been executed once, not running again!\n",
      "Laster data fra data/ctfds_sample_datasets/steam_reviews_sample_parquet...\n",
      "Data forhåndsvisning:\n",
      "+--------+------+--------------------+---------+---------+----------------------------------+-----------------+-----------------+-----------+-------------+-----------+-------------------+-------------+--------------+-----------------+---------------------------+-----------------+----------------------+------------------+-----------------------+------------------------------+-------------------------+------------------+\n",
      "|   index|app_id|            app_name|review_id| language|                            review|timestamp_created|timestamp_updated|recommended|votes_helpful|votes_funny|weighted_vote_score|comment_count|steam_purchase|received_for_free|written_during_early_access|   author_steamid|author_num_games_owned|author_num_reviews|author_playtime_forever|author_playtime_last_two_weeks|author_playtime_at_review|author_last_played|\n",
      "+--------+------+--------------------+---------+---------+----------------------------------+-----------------+-----------------+-----------+-------------+-----------+-------------------+-------------+--------------+-----------------+---------------------------+-----------------+----------------------+------------------+-----------------------+------------------------------+-------------------------+------------------+\n",
      "|20067246|489830|The Elder Scrolls...| 35516587| schinese|波兰蠢驴CD是游戏界的良心企业.你...|       1507290896|       1507290896|      false|           92|          7| 0.8178738355636594|            0|         false|            false|                      false|76561198048250002|                  7861|                62|                   43.0|                           0.0|                     43.0|     1.507290906E9|\n",
      "|20067393|489830|The Elder Scrolls...| 35494739|   german|                     Creation Club|       1507208757|       1507208757|      false|            1|          0| 0.5022624731063843|            0|         false|            false|                      false|76561197988779400|                   354|                19|                   89.0|                           0.0|                     89.0|      1.47775304E9|\n",
      "|20067394|489830|The Elder Scrolls...| 35494441| schinese|        求求b社了，你们可要点b脸吧|       1507207812|       1507207812|      false|            2|          0| 0.5053272247314452|            0|          true|            false|                      false|76561198297174731|                    87|                 3|                15308.0|                           0.0|                  13359.0|     1.600263213E9|\n",
      "|20067764|489830|The Elder Scrolls...| 35453430|  english|              Creation club has...|       1507054350|       1507054350|       true|            1|          0| 0.4843506515026093|            0|         false|             true|                      false|76561198060075187|                   380|                15|                  408.0|                           0.0|                    325.0|     1.599336901E9|\n",
      "|20067860|489830|The Elder Scrolls...| 35438610| schinese|                为什么我的是英文的|       1507016583|       1507016583|       true|            0|          1|                0.0|            0|          true|            false|                      false|76561198257972050|                   104|                 6|                  353.0|                           0.0|                    152.0|     1.550846981E9|\n",
      "|20068554|489830|The Elder Scrolls...| 35252413|  english|              Great game, too b...|       1506561601|       1506561601|      false|            6|          0| 0.4966448545455933|            0|         false|            false|                      false|76561197998850315|                   134|                 4|                 1518.0|                           0.0|                   1397.0|     1.587070592E9|\n",
      "|20068630|489830|The Elder Scrolls...| 35244772|  english|              Seems like you ar...|       1506529266|       1506529266|      false|           18|          0| 0.5158509016036987|            0|         false|            false|                      false|76561198019543135|                   106|                32|                 6585.0|                           0.0|                   4368.0|     1.555844483E9|\n",
      "|20068711|489830|The Elder Scrolls...| 35212214|  english|              PAID MODS\\n\\nTELL...|       1506381208|       1506381208|      false|            6|          2| 0.5005108714103699|            0|         false|             true|                      false|76561198047634578|                   177|                12|                 6454.0|                           0.0|                     37.0|     1.547274089E9|\n",
      "|20068764|489830|The Elder Scrolls...| 35183520|  english|              >Tried to pickpoc...|       1506266145|       1514133803|       true|            1|          2|                0.0|            0|         false|            false|                      false|76561198071240966|                   411|                23|                 1081.0|                           0.0|                    246.0|     1.608653606E9|\n",
      "|20068889|489830|The Elder Scrolls...| 35114414|  english|              Paids mods is com...|       1506029701|       1506029701|      false|            5|          0| 0.5006527304649353|            0|         false|            false|                      false|76561198257726037|                    59|                10|                  831.0|                           0.0|                    693.0|     1.581293978E9|\n",
      "|20069605|489830|The Elder Scrolls...| 34878314|brazilian|              \"Continua bugado,...|       1505115656|       1505115656|      false|            9|          0| 0.6116201281547546|            0|         false|            false|                      false|76561198059544290|                   677|                38|                 4100.0|                           0.0|                   3958.0|     1.608080891E9|\n",
      "|20069659|489830|The Elder Scrolls...| 34874721|  spanish|              Por llegar  a las...|       1505094255|       1505094255|       true|            0|          0|                0.0|            0|         false|            false|                      false|76561198030567054|                   109|                18|                10244.0|                           0.0|                   5165.0|     1.603936309E9|\n",
      "|20069902|489830|The Elder Scrolls...| 34856999|   polish|              Ostatnio pobrałem...|       1505034249|       1505034249|      false|            0|          0|                0.0|            0|         false|            false|                      false|76561198051751608|                     7|                 2|                  305.0|                           0.0|                    305.0|     1.505065902E9|\n",
      "|20069940|489830|The Elder Scrolls...| 34853729|  english|              Greatest game eve...|       1505020923|       1505020923|       true|            2|          1| 0.5231281518936157|            0|          true|            false|                      false|76561198123366943|                   138|                 3|                  735.0|                           0.0|                    209.0|     1.584749405E9|\n",
      "|20070058|489830|The Elder Scrolls...| 34843483| schinese|这个画质完全没有变化嘛！我选择原版|       1504981038|       1504981038|      false|            1|          2| 0.4269878268241882|            0|         false|             true|                      false|76561198269330419|                   259|                24|                 1975.0|                         156.0|                     36.0|     1.611227177E9|\n",
      "|20070439|489830|The Elder Scrolls...| 34811996|  english|              I think it is eno...|       1504868536|       1504868536|       true|            0|          0|  0.498724490404129|            0|         false|            false|                      false|76561198030404471|                    25|                10|                   51.0|                           0.0|                     51.0|      1.50486822E9|\n",
      "|20070535|489830|The Elder Scrolls...| 34804683|  english|              Buy the real vers...|       1504827637|       1504827637|      false|            1|          0|  0.523809552192688|            0|         false|             true|                      false|76561198030514887|                   181|                22|                   10.0|                           0.0|                     10.0|       1.5048274E9|\n",
      "|20070601|489830|The Elder Scrolls...| 34799601|  spanish|                 pay for mods? NOP|       1504807759|       1504974026|      false|           10|          0|                0.0|            0|         false|            false|                      false|76561198051970889|                    91|                19|                  164.0|                           0.0|                     27.0|     1.591602135E9|\n",
      "|20071136|489830|The Elder Scrolls...| 34652977|  english|              \"I got this for f...|       1504248324|       1504248324|      false|            5|          0|                0.0|            0|         false|            false|                      false|76561198004628267|                   588|                10|                  304.0|                           0.0|                    301.0|     1.507061649E9|\n",
      "|20071231|489830|The Elder Scrolls...| 34627997|  english|              Paid mods coming ...|       1504163693|       1504163693|      false|          698|         15| 0.7077577710151672|           12|         false|            false|                      false|76561198039853786|                   403|                26|                 7093.0|                           0.0|                   3840.0|     1.597836006E9|\n",
      "+--------+------+--------------------+---------+---------+----------------------------------+-----------------+-----------------+-----------+-------------+-----------+-------------------+-------------+--------------+-----------------+---------------------------+-----------------+----------------------+------------------+-----------------------+------------------------------+-------------------------+------------------+\n",
      "only showing top 20 rows\n",
      "\n",
      "Utfører clustering...\n",
      "root\n",
      " |-- index: integer (nullable = true)\n",
      " |-- app_id: long (nullable = true)\n",
      " |-- app_name: string (nullable = true)\n",
      " |-- review_id: long (nullable = true)\n",
      " |-- language: string (nullable = true)\n",
      " |-- review: string (nullable = true)\n",
      " |-- timestamp_created: integer (nullable = true)\n",
      " |-- timestamp_updated: integer (nullable = true)\n",
      " |-- recommended: boolean (nullable = true)\n",
      " |-- votes_helpful: integer (nullable = true)\n",
      " |-- votes_funny: integer (nullable = true)\n",
      " |-- weighted_vote_score: double (nullable = true)\n",
      " |-- comment_count: integer (nullable = true)\n",
      " |-- steam_purchase: boolean (nullable = true)\n",
      " |-- received_for_free: boolean (nullable = true)\n",
      " |-- written_during_early_access: boolean (nullable = true)\n",
      " |-- author_steamid: long (nullable = true)\n",
      " |-- author_num_games_owned: integer (nullable = true)\n",
      " |-- author_num_reviews: integer (nullable = true)\n",
      " |-- author_playtime_forever: double (nullable = true)\n",
      " |-- author_playtime_last_two_weeks: double (nullable = true)\n",
      " |-- author_playtime_at_review: double (nullable = true)\n",
      " |-- author_last_played: double (nullable = true)\n",
      "\n"
     ]
    }
   ],
   "source": [
    "import os\n",
    "from dtu_ctfds_02807_proj.context_creation import create_context\n",
    "\n",
    "# 1. Opprett Spark-kontekst\n",
    "local = True  # Endre til False hvis du jobber i en distribuert kontekst\n",
    "sc, spark = create_context(local)\n",
    "\n",
    "# 2. Definer stien til Parquet-data\n",
    "data_path = os.path.join(\"data\", \"ctfds_sample_datasets\", \"steam_reviews_sample_parquet\")\n",
    "\n",
    "# 3. Sjekk om mappen eksisterer før lesing\n",
    "if not os.path.exists(data_path):\n",
    "    raise FileNotFoundError(f\"Datafilene ble ikke funnet på {os.path.abspath(data_path)}\")\n",
    "\n",
    "# 4. Les Parquet-data\n",
    "print(f\"Laster data fra {data_path}...\")\n",
    "data = spark.read.parquet(data_path)\n",
    "\n",
    "# 5. Vis data\n",
    "print(\"Data forhåndsvisning:\")\n",
    "data.show()\n",
    "\n",
    "# 6. Gjør videre analyse eller clustering\n",
    "def clustering_analysis(data):\n",
    "    \"\"\"\n",
    "    Eksempel på analysefunksjon.\n",
    "    Her kan du legge til clustering-logikk eller annen databehandling.\n",
    "    \"\"\"\n",
    "    print(\"Utfører clustering...\")\n",
    "    data.printSchema()  # Skriv ut skjemainformasjon for dataene\n",
    "\n",
    "    # Eksempel: Hvis du implementerer clustering\n",
    "    # from pyspark.ml.clustering import KMeans\n",
    "    # kmeans = KMeans(k=3, seed=1)\n",
    "    # model = kmeans.fit(data)\n",
    "    # result = model.transform(data)\n",
    "    # result.show()\n",
    "\n",
    "clustering_analysis(data)\n"
   ]
  },
  {
   "cell_type": "markdown",
   "metadata": {},
   "source": [
    "### Hierarchical Clustering"
   ]
  },
  {
   "cell_type": "code",
   "execution_count": 4,
   "metadata": {},
   "outputs": [
    {
     "ename": "ModuleNotFoundError",
     "evalue": "No module named 'scipy'",
     "output_type": "error",
     "traceback": [
      "\u001b[0;31m---------------------------------------------------------------------------\u001b[0m",
      "\u001b[0;31mModuleNotFoundError\u001b[0m                       Traceback (most recent call last)",
      "Cell \u001b[0;32mIn[4], line 3\u001b[0m\n\u001b[1;32m      1\u001b[0m \u001b[38;5;28;01mfrom\u001b[39;00m \u001b[38;5;21;01mpyspark\u001b[39;00m\u001b[38;5;21;01m.\u001b[39;00m\u001b[38;5;21;01msql\u001b[39;00m\u001b[38;5;21;01m.\u001b[39;00m\u001b[38;5;21;01mfunctions\u001b[39;00m \u001b[38;5;28;01mimport\u001b[39;00m col\n\u001b[1;32m      2\u001b[0m \u001b[38;5;28;01mimport\u001b[39;00m \u001b[38;5;21;01mpandas\u001b[39;00m \u001b[38;5;28;01mas\u001b[39;00m \u001b[38;5;21;01mpd\u001b[39;00m\n\u001b[0;32m----> 3\u001b[0m \u001b[38;5;28;01mfrom\u001b[39;00m \u001b[38;5;21;01mscipy\u001b[39;00m\u001b[38;5;21;01m.\u001b[39;00m\u001b[38;5;21;01mcluster\u001b[39;00m\u001b[38;5;21;01m.\u001b[39;00m\u001b[38;5;21;01mhierarchy\u001b[39;00m \u001b[38;5;28;01mimport\u001b[39;00m linkage, dendrogram\n\u001b[1;32m      4\u001b[0m \u001b[38;5;28;01mimport\u001b[39;00m \u001b[38;5;21;01mmatplotlib\u001b[39;00m\u001b[38;5;21;01m.\u001b[39;00m\u001b[38;5;21;01mpyplot\u001b[39;00m \u001b[38;5;28;01mas\u001b[39;00m \u001b[38;5;21;01mplt\u001b[39;00m\n\u001b[1;32m      6\u001b[0m \u001b[38;5;66;03m# Konverter til Pandas DataFrame for clustering\u001b[39;00m\n",
      "\u001b[0;31mModuleNotFoundError\u001b[0m: No module named 'scipy'"
     ]
    }
   ],
   "source": [
    "from pyspark.sql.functions import col\n",
    "import pandas as pd\n",
    "from scipy.cluster.hierarchy import linkage, dendrogram\n",
    "import matplotlib.pyplot as plt\n",
    "\n",
    "# Konverter til Pandas DataFrame for clustering\n",
    "pandas_data = data.select(\"feature1\", \"feature2\").toPandas()\n",
    "\n",
    "# Hierarkisk clustering\n",
    "Z = linkage(pandas_data, method='ward')  # 'ward', 'single', or 'complete'\n",
    "\n",
    "# Plot dendrogram\n",
    "plt.figure(figsize=(10, 7))\n",
    "dendrogram(Z)\n",
    "plt.title(\"Hierarchical Clustering Dendrogram\")\n",
    "plt.xlabel(\"Game Index\")\n",
    "plt.ylabel(\"Distance\")\n",
    "plt.show()\n"
   ]
  }
 ],
 "metadata": {
  "kernelspec": {
   "display_name": ".venv",
   "language": "python",
   "name": "python3"
  },
  "language_info": {
   "codemirror_mode": {
    "name": "ipython",
    "version": 3
   },
   "file_extension": ".py",
   "mimetype": "text/x-python",
   "name": "python",
   "nbconvert_exporter": "python",
   "pygments_lexer": "ipython3",
   "version": "3.13.0"
  }
 },
 "nbformat": 4,
 "nbformat_minor": 2
}
