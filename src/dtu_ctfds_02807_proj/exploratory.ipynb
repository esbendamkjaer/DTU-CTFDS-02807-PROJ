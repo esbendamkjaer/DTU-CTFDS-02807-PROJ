{
 "cells": [
  {
   "cell_type": "markdown",
   "metadata": {},
   "source": [
    "## Imports"
   ]
  },
  {
   "cell_type": "code",
   "execution_count": 1,
   "metadata": {},
   "outputs": [],
   "source": [
    "from pyspark.sql import DataFrame, functions as F\n",
    "from pyspark.sql.types import StructType, StructField, StringType, IntegerType, FloatType, BooleanType, LongType, DoubleType, ArrayType, DateType\n",
    "from matplotlib import pyplot as plt\n",
    "import seaborn as sns\n",
    "from pyspark.sql.types import ArrayType, StringType, MapType, IntegerType"
   ]
  },
  {
   "cell_type": "markdown",
   "metadata": {},
   "source": [
    "## Create Spark session"
   ]
  },
  {
   "cell_type": "code",
   "execution_count": 2,
   "metadata": {},
   "outputs": [
    {
     "name": "stdout",
     "output_type": "stream",
     "text": [
      "Cell has not been executed before, running...\n"
     ]
    },
    {
     "name": "stderr",
     "output_type": "stream",
     "text": [
      "24/11/18 00:09:49 WARN Utils: Your hostname, macbook.local resolves to a loopback address: 127.0.0.1; using 192.168.86.53 instead (on interface en0)\n",
      "24/11/18 00:09:49 WARN Utils: Set SPARK_LOCAL_IP if you need to bind to another address\n",
      "Setting default log level to \"WARN\".\n",
      "To adjust logging level use sc.setLogLevel(newLevel). For SparkR, use setLogLevel(newLevel).\n",
      "24/11/18 00:09:50 WARN NativeCodeLoader: Unable to load native-hadoop library for your platform... using builtin-java classes where applicable\n"
     ]
    }
   ],
   "source": [
    "from dtu_ctfds_02807_proj.context_creation import create_context\n",
    "\n",
    "local = True\n",
    "sc, spark = create_context(local)"
   ]
  },
  {
   "cell_type": "markdown",
   "metadata": {},
   "source": [
    "## Load data"
   ]
  },
  {
   "cell_type": "code",
   "execution_count": 3,
   "metadata": {},
   "outputs": [],
   "source": [
    "review_schema = StructType([\n",
    "    StructField(\"index\", IntegerType(), True),\n",
    "    StructField(\"app_id\", LongType(), True),\n",
    "    StructField(\"app_name\", StringType(), True),\n",
    "    StructField(\"review_id\", LongType(), True),\n",
    "    StructField(\"language\", StringType(), True),\n",
    "    StructField(\"review\", StringType(), True),\n",
    "    StructField(\"timestamp_created\", IntegerType(), True),\n",
    "    StructField(\"timestamp_updated\", IntegerType(), True),\n",
    "    StructField(\"recommended\", BooleanType(), True),\n",
    "    StructField(\"votes_helpful\", IntegerType(), True),\n",
    "    StructField(\"votes_funny\", IntegerType(), True),\n",
    "    StructField(\"weighted_vote_score\", DoubleType(), True),\n",
    "    StructField(\"comment_count\", IntegerType(), True),\n",
    "    StructField(\"steam_purchase\", BooleanType(), True),\n",
    "    StructField(\"received_for_free\", BooleanType(), True),\n",
    "    StructField(\"written_during_early_access\", BooleanType(), True),\n",
    "    StructField(\"author_steamid\", LongType(), True),\n",
    "    StructField(\"author_num_games_owned\", IntegerType(), True),\n",
    "    StructField(\"author_num_reviews\", IntegerType(), True),\n",
    "    StructField(\"author_playtime_forever\", DoubleType(), True),\n",
    "    StructField(\"author_playtime_last_two_weeks\", DoubleType(), True),\n",
    "    StructField(\"author_playtime_at_review\", DoubleType(), True),\n",
    "    StructField(\"author_last_played\", DoubleType(), True)\n",
    "])"
   ]
  },
  {
   "cell_type": "code",
   "execution_count": 4,
   "metadata": {},
   "outputs": [],
   "source": [
    "game_schema = StructType([\n",
    "    StructField(\"app_id\", IntegerType(), True),\n",
    "    StructField(\"name\", StringType(), True),\n",
    "    StructField(\"release_date\", DateType(), True),\n",
    "    StructField(\"required_age\", IntegerType(), True),\n",
    "    StructField(\"price\", FloatType(), True),\n",
    "    StructField(\"dlc_count\", IntegerType(), True),\n",
    "    StructField(\"detailed_description\", StringType(), True),\n",
    "    StructField(\"about_the_game\", StringType(), True),\n",
    "    StructField(\"short_description\", StringType(), True),\n",
    "    StructField(\"reviews\", StringType(), True),\n",
    "    StructField(\"header_image\", StringType(), True),\n",
    "    StructField(\"website\", StringType(), True),\n",
    "    StructField(\"support_url\", StringType(), True),\n",
    "    StructField(\"support_email\", StringType(), True),\n",
    "    StructField(\"windows\", BooleanType(), True),\n",
    "    StructField(\"mac\", BooleanType(), True),\n",
    "    StructField(\"linux\", BooleanType(), True),\n",
    "    StructField(\"metacritic_score\", IntegerType(), True),\n",
    "    StructField(\"metacritic_url\", StringType(), True),\n",
    "    StructField(\"achievements\", IntegerType(), True),\n",
    "    StructField(\"recommendations\", IntegerType(), True),\n",
    "    StructField(\"notes\", StringType(), True),\n",
    "    StructField(\"supported_languages\", ArrayType(StringType()), True),  # Parsed from JSON\n",
    "    StructField(\"full_audio_languages\", ArrayType(StringType()), True),  # Parsed from JSON\n",
    "    StructField(\"packages\", ArrayType(StringType()), True),  # Parsed from JSON\n",
    "    StructField(\"developers\", ArrayType(StringType()), True),  # Parsed from JSON\n",
    "    StructField(\"publishers\", ArrayType(StringType()), True),  # Parsed from JSON\n",
    "    StructField(\"categories\", ArrayType(StringType()), True),  # Parsed from JSON\n",
    "    StructField(\"genres\", ArrayType(StringType()), True),  # Parsed from JSON\n",
    "    StructField(\"screenshots\", ArrayType(StringType()), True),  # Parsed from JSON\n",
    "    StructField(\"movies\", ArrayType(StringType()), True),  # Parsed from JSON\n",
    "    StructField(\"user_score\", FloatType(), True),\n",
    "    StructField(\"score_rank\", IntegerType(), True),\n",
    "    StructField(\"positive\", IntegerType(), True),\n",
    "    StructField(\"negative\", IntegerType(), True),\n",
    "    StructField(\"estimated_owners\", StringType(), True),\n",
    "    StructField(\"average_playtime_forever\", IntegerType(), True),\n",
    "    StructField(\"average_playtime_2weeks\", IntegerType(), True),\n",
    "    StructField(\"median_playtime_forever\", IntegerType(), True),\n",
    "    StructField(\"median_playtime_2weeks\", IntegerType(), True),\n",
    "    StructField(\"peak_ccu\", IntegerType(), True),\n",
    "    StructField(\"tags\", MapType(StringType(), IntegerType()), True),  # Parsed from JSON\n",
    "    StructField(\"pct_pos_total\", IntegerType(), True),\n",
    "    StructField(\"num_reviews_total\", IntegerType(), True),\n",
    "    StructField(\"pct_pos_recent\", IntegerType(), True),\n",
    "    StructField(\"num_reviews_recent\", IntegerType(), True)\n",
    "])"
   ]
  },
  {
   "cell_type": "code",
   "execution_count": 5,
   "metadata": {},
   "outputs": [
    {
     "name": "stderr",
     "output_type": "stream",
     "text": [
      "                                                                                \r"
     ]
    }
   ],
   "source": [
    "\n",
    "if local:\n",
    "    game_reviews = spark.read.parquet(\"data/steam_reviews_sample_parquet\")\n",
    "    games = spark.read.parquet(\"data/steam_games_parquet\")\n",
    "else:\n",
    "    game_reviews = spark.read.parquet(\"file:////work/ds/steam_reviews_parquet\")\n",
    "    games = spark.read.parquet('file:////work/ds/steam_games_parquet')\n",
    "    \n",
    "\n",
    "game_reviews: DataFrame = game_reviews.persist()\n",
    "games: DataFrame = games.persist()"
   ]
  },
  {
   "cell_type": "code",
   "execution_count": 6,
   "metadata": {},
   "outputs": [
    {
     "name": "stderr",
     "output_type": "stream",
     "text": [
      "                                                                                \r"
     ]
    },
    {
     "data": {
      "text/plain": [
       "315"
      ]
     },
     "execution_count": 6,
     "metadata": {},
     "output_type": "execute_result"
    }
   ],
   "source": [
    "game_reviews\\\n",
    "    .select(game_reviews.app_id)\\\n",
    "    .distinct()\\\n",
    "    .count()"
   ]
  },
  {
   "cell_type": "code",
   "execution_count": 7,
   "metadata": {},
   "outputs": [
    {
     "name": "stdout",
     "output_type": "stream",
     "text": [
      "+-------+------+--------------------+---------+--------+----------------------------------+-----------------+-----------------+-----------+-------------+-----------+-------------------+-------------+--------------+-----------------+---------------------------+-----------------+----------------------+------------------+-----------------------+------------------------------+-------------------------+------------------+\n",
      "|  index|app_id|            app_name|review_id|language|                            review|timestamp_created|timestamp_updated|recommended|votes_helpful|votes_funny|weighted_vote_score|comment_count|steam_purchase|received_for_free|written_during_early_access|   author_steamid|author_num_games_owned|author_num_reviews|author_playtime_forever|author_playtime_last_two_weeks|author_playtime_at_review|author_last_played|\n",
      "+-------+------+--------------------+---------+--------+----------------------------------+-----------------+-----------------+-----------+-------------+-----------+-------------------+-------------+--------------+-----------------+---------------------------+-----------------+----------------------+------------------+-----------------------+------------------------------+-------------------------+------------------+\n",
      "|5182067|779340|Total War: THREE ...| 62349343| english|              i really like the...|       1579906562|       1579906562|       true|            0|          0|                0.0|            0|          true|            false|                      false|76561198376567674|                    29|                 4|                 6777.0|                           0.0|                    263.0|     1.596765515E9|\n",
      "|5182202|779340|Total War: THREE ...| 62282887|schinese|      爆锤三国志14  暗荣你要知耻哦|       1579797742|       1579797742|       true|            2|          2| 0.5310423374176025|            0|          true|            false|                      false|76561198054825313|                   382|                12|                 3518.0|                           0.0|                   3518.0|     1.559438642E9|\n",
      "|5182239|779340|Total War: THREE ...| 62272581|schinese|                        哈哈哈哈哈|       1579781143|       1579781143|       true|            0|          0|                0.0|            0|          true|            false|                      false|76561199020830220|                    12|                 1|                 8944.0|                         201.0|                    215.0|     1.610034039E9|\n",
      "|5182254|779340|Total War: THREE ...| 62268090|schinese|   看了评论，瞬间不想买DLC了···...|       1579771767|       1579771767|      false|            5|          1| 0.5610895752906799|            0|         false|            false|                      false|76561198105312231|                    16|                 1|                 9797.0|                           0.0|                   5788.0|     1.609220819E9|\n",
      "|5182410|779340|Total War: THREE ...| 62216420|schinese|断断续续玩了388个小时了，连原版...|       1579674545|       1579674545|       true|            1|          0|  0.523809552192688|            0|         false|            false|                      false|76561198369356025|                     9|                 1|                32403.0|                        1548.0|                  23299.0|     1.610272029E9|\n",
      "+-------+------+--------------------+---------+--------+----------------------------------+-----------------+-----------------+-----------+-------------+-----------+-------------------+-------------+--------------+-----------------+---------------------------+-----------------+----------------------+------------------+-----------------------+------------------------------+-------------------------+------------------+\n",
      "only showing top 5 rows\n",
      "\n"
     ]
    }
   ],
   "source": [
    "game_reviews\\\n",
    "    .show(5)"
   ]
  },
  {
   "cell_type": "code",
   "execution_count": 8,
   "metadata": {},
   "outputs": [
    {
     "data": {
      "text/plain": [
       "46020"
      ]
     },
     "execution_count": 8,
     "metadata": {},
     "output_type": "execute_result"
    }
   ],
   "source": [
    "game_reviews\\\n",
    "    .select(game_reviews.app_id)\\\n",
    "    .filter(game_reviews.language == 'english')\\\n",
    "    .count()"
   ]
  },
  {
   "cell_type": "markdown",
   "metadata": {},
   "source": [
    "## Most reviewed games"
   ]
  },
  {
   "cell_type": "code",
   "execution_count": 9,
   "metadata": {},
   "outputs": [],
   "source": [
    "most_reviewed = game_reviews\\\n",
    "    .groupBy(game_reviews.app_id)\\\n",
    "    .agg(\n",
    "        F.count('review_id').alias('review_count'),\n",
    "        F.count(\n",
    "            F.when(game_reviews.recommended == True, 1)\n",
    "        ).alias('recommended_count'),\n",
    "        F.count(\n",
    "            F.when(game_reviews.recommended == False, 1)\n",
    "        ).alias('not_recommended_count')\n",
    "    )\\\n",
    "    .withColumn(\n",
    "        'recommended_ratio',\n",
    "        F.col('recommended_count') / F.col('review_count')\n",
    "    )\\\n",
    "    .withColumn(\n",
    "        'not_recommended_ratio',\n",
    "        F.col('not_recommended_count') / F.col('review_count')\n",
    "    )\\\n",
    "    .withColumn(\n",
    "        'recommended_to_not_recommended_ratio',\n",
    "        F.col('recommended_count') / F.col('not_recommended_count')\n",
    "    )\n",
    "\n",
    "most_reviewed_games = most_reviewed\\\n",
    "    .join(games, most_reviewed.app_id == games.app_id, how='inner')\n"
   ]
  },
  {
   "cell_type": "code",
   "execution_count": 10,
   "metadata": {},
   "outputs": [
    {
     "name": "stderr",
     "output_type": "stream",
     "text": [
      "                                                                                \r"
     ]
    },
    {
     "name": "stdout",
     "output_type": "stream",
     "text": [
      "+-------------------------------+------------+------------------+------------------------------------+\n",
      "|name                           |review_count|recommended_ratio |recommended_to_not_recommended_ratio|\n",
      "+-------------------------------+------------+------------------+------------------------------------+\n",
      "|PUBG: BATTLEGROUNDS            |7835        |0.5392469687300574|1.1703601108033241                  |\n",
      "|Grand Theft Auto V             |4913        |0.8155912884184816|4.422737306843267                   |\n",
      "|Tom Clancy's Rainbow Six® Siege|3981        |0.8839487565938207|7.616883116883117                   |\n",
      "|Terraria                       |3084        |0.9727626459143969|35.714285714285715                  |\n",
      "|Garry's Mod                    |3079        |0.9600519649236765|24.03252032520325                   |\n",
      "+-------------------------------+------------+------------------+------------------------------------+\n",
      "only showing top 5 rows\n",
      "\n"
     ]
    }
   ],
   "source": [
    "most_reviewed_games\\\n",
    "    .select('name', 'review_count', 'recommended_ratio', 'recommended_to_not_recommended_ratio')\\\n",
    "    .orderBy(F.desc('review_count'))\\\n",
    "    .show(\n",
    "        5,\n",
    "        truncate=False\n",
    "    )"
   ]
  },
  {
   "cell_type": "code",
   "execution_count": 11,
   "metadata": {},
   "outputs": [
    {
     "name": "stdout",
     "output_type": "stream",
     "text": [
      "+-------------------+------------+------------------+------------------------------------+\n",
      "|name               |review_count|recommended_ratio |recommended_to_not_recommended_ratio|\n",
      "+-------------------+------------+------------------+------------------------------------+\n",
      "|ATLAS              |192         |0.4791666666666667|0.92                                |\n",
      "|Call of Duty®: WWII|141         |0.524822695035461 |1.1044776119402986                  |\n",
      "|PUBG: BATTLEGROUNDS|7835        |0.5392469687300574|1.1703601108033241                  |\n",
      "|Artifact           |113         |0.5575221238938053|1.26                                |\n",
      "|No Man's Sky       |896         |0.6796875         |2.1219512195121952                  |\n",
      "+-------------------+------------+------------------+------------------------------------+\n",
      "only showing top 5 rows\n",
      "\n"
     ]
    }
   ],
   "source": [
    "most_reviewed_games\\\n",
    "    .select('name', 'review_count', 'recommended_ratio', 'recommended_to_not_recommended_ratio')\\\n",
    "    .filter(F.col('recommended_to_not_recommended_ratio').isNotNull())\\\n",
    "    .filter(F.col('review_count') > 100)\\\n",
    "    .orderBy(F.asc('recommended_to_not_recommended_ratio'))\\\n",
    "    .show(\n",
    "        5,\n",
    "        truncate=False\n",
    "    )"
   ]
  },
  {
   "cell_type": "markdown",
   "metadata": {},
   "source": [
    "## Review count by user"
   ]
  },
  {
   "cell_type": "code",
   "execution_count": 12,
   "metadata": {},
   "outputs": [],
   "source": [
    "reviews_by_user = game_reviews\\\n",
    "    .groupBy(\"author_steamid\")\\\n",
    "    .agg(\n",
    "        F.count('review_id').alias('review_count'),\n",
    "    )\n",
    "\n",
    "user_review_count = reviews_by_user\\\n",
    "    .groupBy(\"review_count\")\\\n",
    "    .agg(\n",
    "        F.count('review_count').alias('user_count'),\n",
    "    )\\\n",
    "    .orderBy(F.desc('review_count'))"
   ]
  },
  {
   "cell_type": "code",
   "execution_count": 13,
   "metadata": {},
   "outputs": [
    {
     "data": {
      "image/png": "[encoded data removed]",
      "text/plain": [
       "<Figure size 640x480 with 1 Axes>"
      ]
     },
     "metadata": {},
     "output_type": "display_data"
    }
   ],
   "source": [
    "user_review_count_pd = user_review_count.toPandas()\n",
    "\n",
    "# Only discrete values, log y-axis\n",
    "sns.barplot(\n",
    "    x=user_review_count_pd['review_count'],\n",
    "    y=user_review_count_pd['user_count'],\n",
    "    log=True\n",
    ")\n",
    "plt.xlabel('Number of reviews')\n",
    "plt.ylabel('Number of users')\n",
    "\n",
    "plt.show()"
   ]
  },
  {
   "cell_type": "markdown",
   "metadata": {},
   "source": [
    "## Histogram of review_count"
   ]
  },
  {
   "cell_type": "code",
   "execution_count": 14,
   "metadata": {},
   "outputs": [
    {
     "name": "stderr",
     "output_type": "stream",
     "text": [
      "                                                                                \r"
     ]
    }
   ],
   "source": [
    "most_reviewed_games_pdf = most_reviewed_games.toPandas()"
   ]
  },
  {
   "cell_type": "code",
   "execution_count": 15,
   "metadata": {},
   "outputs": [
    {
     "data": {
      "image/png": "[encoded data removed]",
      "text/plain": [
       "<Figure size 640x480 with 1 Axes>"
      ]
     },
     "metadata": {},
     "output_type": "display_data"
    }
   ],
   "source": [
    "sns.scatterplot(\n",
    "    x='review_count',\n",
    "    y='recommended_to_not_recommended_ratio',\n",
    "    data=most_reviewed_games_pdf\n",
    ")\n",
    "\n",
    "plt.xlabel('Review count')\n",
    "plt.ylabel('Recommended to not recommended ratio')\n",
    "plt.title('Review count vs recommended to not recommended ratio')\n",
    "plt.show()"
   ]
  },
  {
   "cell_type": "code",
   "execution_count": 16,
   "metadata": {},
   "outputs": [
    {
     "data": {
      "image/png": "[encoded data removed]",
      "text/plain": [
       "<Figure size 640x480 with 1 Axes>"
      ]
     },
     "metadata": {},
     "output_type": "display_data"
    }
   ],
   "source": [
    "sns.histplot(\n",
    "    most_reviewed_games_pdf['recommended_ratio'],\n",
    "    bins=80,\n",
    "    kde=True\n",
    ")\n",
    "plt.xlabel('Recommended Ratio')\n",
    "plt.ylabel('Frequency')\n",
    "plt.title('Histogram of review count')\n",
    "plt.show()"
   ]
  },
  {
   "cell_type": "code",
   "execution_count": 17,
   "metadata": {},
   "outputs": [
    {
     "name": "stdout",
     "output_type": "stream",
     "text": [
      "+-------+-----------------+------------+\n",
      "| app_id|   author_steamid|review_count|\n",
      "+-------+-----------------+------------+\n",
      "| 367520|76561198988312667|           2|\n",
      "| 227300|76561198079793673|           2|\n",
      "| 779340|76561198156707503|           1|\n",
      "| 779340|76561198022192588|           1|\n",
      "|1190460|76561198080232836|           1|\n",
      "+-------+-----------------+------------+\n",
      "only showing top 5 rows\n",
      "\n"
     ]
    }
   ],
   "source": [
    "game_reviews\\\n",
    "    .filter(game_reviews.author_steamid > 100)\\\n",
    "    .groupBy(game_reviews.app_id, game_reviews.author_steamid)\\\n",
    "    .agg(\n",
    "        F.count('review_id').alias('review_count'),\n",
    "    )\\\n",
    "    .orderBy(F.desc('review_count'))\\\n",
    "    .show(\n",
    "        5\n",
    "    )"
   ]
  },
  {
   "cell_type": "markdown",
   "metadata": {},
   "source": [
    "# Collaborative filtering"
   ]
  },
  {
   "cell_type": "markdown",
   "metadata": {},
   "source": [
    "## ALS model"
   ]
  },
  {
   "cell_type": "code",
   "execution_count": 18,
   "metadata": {},
   "outputs": [],
   "source": [
    "from pyspark.ml.recommendation import ALS\n",
    "from pyspark.ml.feature import StringIndexer\n",
    "\n",
    "game_ratings = game_reviews\\\n",
    "    .filter(F.col(\"author_steamid\").isNotNull())\\\n",
    "    .withColumn(\n",
    "        'rating',\n",
    "        F.when(game_reviews.recommended == True, 1).otherwise(-1)\n",
    "    )\n",
    "\n",
    "user_indexer = StringIndexer(inputCol=\"author_steamid\", outputCol=\"user_index\")\n",
    "game_ratings = user_indexer.fit(game_ratings).transform(game_ratings)\n",
    "\n",
    "reviews_train, reviews_test = game_ratings\\\n",
    "    .randomSplit([0.8, 0.2], seed=1234)\n",
    "\n",
    "als = ALS(\n",
    "    maxIter=50,\n",
    "    rank=20,\n",
    "    regParam=0.01,\n",
    "    userCol=\"user_index\",\n",
    "    itemCol=\"app_id\",\n",
    "    ratingCol=\"rating\",\n",
    "    coldStartStrategy=\"drop\"\n",
    ")"
   ]
  },
  {
   "cell_type": "code",
   "execution_count": 19,
   "metadata": {},
   "outputs": [],
   "source": [
    "model = als.fit(reviews_train)\n",
    "\n",
    "predictions = model.transform(reviews_test).cache()"
   ]
  },
  {
   "cell_type": "code",
   "execution_count": 20,
   "metadata": {},
   "outputs": [
    {
     "name": "stderr",
     "output_type": "stream",
     "text": [
      "                                                                                \r"
     ]
    },
    {
     "name": "stdout",
     "output_type": "stream",
     "text": [
      "+------+----------+\n",
      "|rating|prediction|\n",
      "+------+----------+\n",
      "|     1|       1.0|\n",
      "|     1|      -1.0|\n",
      "|     1|       1.0|\n",
      "|     1|       1.0|\n",
      "|     1|       1.0|\n",
      "+------+----------+\n",
      "only showing top 5 rows\n",
      "\n"
     ]
    },
    {
     "name": "stderr",
     "output_type": "stream",
     "text": [
      "                                                                                \r"
     ]
    }
   ],
   "source": [
    "# Round predictions to -1 or 1\n",
    "rounded_pred = predictions\\\n",
    "    .withColumn(\n",
    "        'prediction',\n",
    "        F.when(F.col('prediction') > 0, 1.).otherwise(-1.)\n",
    "    )\\\n",
    "    .select('rating', 'prediction')\\\n",
    "\n",
    "rounded_pred.show(5)"
   ]
  },
  {
   "cell_type": "code",
   "execution_count": 21,
   "metadata": {},
   "outputs": [
    {
     "name": "stderr",
     "output_type": "stream",
     "text": [
      "                                                                                \r"
     ]
    },
    {
     "name": "stdout",
     "output_type": "stream",
     "text": [
      "Root-mean-square error = 1.342030968502161\n"
     ]
    },
    {
     "name": "stderr",
     "output_type": "stream",
     "text": [
      "                                                                                \r"
     ]
    },
    {
     "name": "stdout",
     "output_type": "stream",
     "text": [
      "Accuracy = 0.5497382198952879\n"
     ]
    },
    {
     "name": "stderr",
     "output_type": "stream",
     "text": [
      "                                                                                \r"
     ]
    }
   ],
   "source": [
    "# Calculate RMSE\n",
    "from pyspark.ml.evaluation import RegressionEvaluator\n",
    "\n",
    "evaluator = RegressionEvaluator(\n",
    "    metricName=\"rmse\",\n",
    "    labelCol=\"rating\",\n",
    "    predictionCol=\"prediction\"\n",
    ")\n",
    "\n",
    "rmse = evaluator.evaluate(rounded_pred)\n",
    "print(f\"Root-mean-square error = {rmse}\")\n",
    "\n",
    "# Calculate accuracy\n",
    "correct = rounded_pred\\\n",
    "    .filter(F.col('rating') == F.col('prediction'))\\\n",
    "    .count()\n",
    "\n",
    "total = rounded_pred.count()\n",
    "\n",
    "accuracy = correct / total\n",
    "\n",
    "print(f\"Accuracy = {accuracy}\")"
   ]
  },
  {
   "cell_type": "markdown",
   "metadata": {},
   "source": [
    "# Content based filtering"
   ]
  },
  {
   "cell_type": "code",
   "execution_count": 22,
   "metadata": {},
   "outputs": [],
   "source": [
    "from pyspark.ml.feature import Tokenizer, StopWordsRemover, HashingTF, IDF, BucketedRandomProjectionLSH, BucketedRandomProjectionLSHModel, MinHashLSH, MinHashLSHModel\n",
    "from pyspark.ml import Pipeline"
   ]
  },
  {
   "cell_type": "code",
   "execution_count": 52,
   "metadata": {},
   "outputs": [],
   "source": [
    "game_data = games\\\n",
    "    .filter(games.detailed_description.isNotNull())\\\n",
    "    .select('app_id', 'name', 'about_the_game', 'detailed_description', 'short_description')\n",
    "\n",
    "tokenizer = Tokenizer(inputCol=\"detailed_description\", outputCol=\"words\")\n",
    "\n",
    "stop_word_remover = StopWordsRemover(inputCol=\"words\", outputCol=\"filtered\")\n",
    "\n",
    "hashingTF = HashingTF(inputCol=\"filtered\", outputCol=\"rawFeatures\", numFeatures=1000)\n",
    "\n",
    "idf = IDF(inputCol=\"rawFeatures\", outputCol=\"features\")\n",
    "\n",
    "brp = BucketedRandomProjectionLSH(inputCol=\"features\", outputCol=\"hashes\", bucketLength=10.0)\n",
    "\n",
    "pipeline = Pipeline(stages=[tokenizer, stop_word_remover, hashingTF, idf, brp])\n"
   ]
  },
  {
   "cell_type": "code",
   "execution_count": 53,
   "metadata": {},
   "outputs": [
    {
     "name": "stderr",
     "output_type": "stream",
     "text": [
      "                                                                                \r"
     ]
    }
   ],
   "source": [
    "model = pipeline.fit(game_data)"
   ]
  },
  {
   "cell_type": "code",
   "execution_count": 54,
   "metadata": {},
   "outputs": [],
   "source": [
    "result = model.transform(game_data)"
   ]
  },
  {
   "cell_type": "code",
   "execution_count": 55,
   "metadata": {},
   "outputs": [],
   "source": [
    "brp_model: BucketedRandomProjectionLSHModel = model.stages[-1]"
   ]
  },
  {
   "cell_type": "code",
   "execution_count": 59,
   "metadata": {},
   "outputs": [
    {
     "name": "stderr",
     "output_type": "stream",
     "text": [
      "[Stage 523:==========================================>              (6 + 2) / 8]\r"
     ]
    },
    {
     "name": "stdout",
     "output_type": "stream",
     "text": [
      "+------+------------------------------+------------------+\n",
      "|app_id|name                          |EuclideanDistance |\n",
      "+------+------------------------------+------------------+\n",
      "|100   |Counter-Strike: Condition Zero|0.0               |\n",
      "|80    |Counter-Strike: Condition Zero|0.0               |\n",
      "|9900  |Star Trek Online              |12.928798476622445|\n",
      "|109600|Neverwinter                   |12.928798476622445|\n",
      "|342570|HIS (Heroes In the Sky)       |13.20559249655457 |\n",
      "+------+------------------------------+------------------+\n",
      "\n"
     ]
    },
    {
     "name": "stderr",
     "output_type": "stream",
     "text": [
      "                                                                                \r"
     ]
    }
   ],
   "source": [
    "query_vector = result\\\n",
    "    .where(F.col('app_id') == 100)\\\n",
    "    .select('features')\\\n",
    "    .first()[\"features\"]\n",
    "\n",
    "brp_model\\\n",
    "    .approxNearestNeighbors(\n",
    "        dataset=result, \n",
    "        key=query_vector,\n",
    "        numNearestNeighbors=5,\n",
    "        distCol=\"EuclideanDistance\" \n",
    "    )\\\n",
    "    .select('app_id', 'name', 'EuclideanDistance')\\\n",
    "    .show(truncate=False)"
   ]
  },
  {
   "cell_type": "code",
   "execution_count": null,
   "metadata": {},
   "outputs": [
    {
     "name": "stdout",
     "output_type": "stream",
     "text": [
      "[287.854s][warning][gc,alloc] Executor task launch worker for task 0.0 in stage 463.0 (TID 1964): Retried waiting for GCLocker too often allocating 256 words\n",
      "[287.915s][warning][gc,alloc] Executor task launch worker for task 0.0 in stage 468.0 (TID 1974): Retried waiting for GCLocker too often allocating 256 words\n",
      "[287.915s][warning][gc,alloc] Executor task launch worker for task 0.0 in stage 458.0 (TID 1954): Retried waiting for GCLocker too often allocating 389 words\n",
      "[289.911s][warning][gc,alloc] Executor task launch worker for task 1.0 in stage 458.0 (TID 1955): Retried waiting for GCLocker too often allocating 38 words\n",
      "[290.111s][warning][gc,alloc] Executor task launch worker for task 1.0 in stage 468.0 (TID 1975): Retried waiting for GCLocker too often allocating 430 words\n",
      "[290.112s][warning][gc,alloc] Executor task launch worker for task 0.0 in stage 458.0 (TID 1954): Retried waiting for GCLocker too often allocating 416 words\n",
      "[290.176s][warning][gc,alloc] Executor task launch worker for task 0.0 in stage 463.0 (TID 1964): Retried waiting for GCLocker too often allocating 256 words\n",
      "[290.176s][warning][gc,alloc] Executor task launch worker for task 1.0 in stage 463.0 (TID 1965): Retried waiting for GCLocker too often allocating 256 words\n",
      "[290.367s][warning][gc,alloc] refresh progress: Retried waiting for GCLocker too often allocating 386 words\n",
      "[290.499s][warning][gc,alloc] Executor task launch worker for task 0.0 in stage 468.0 (TID 1974): Retried waiting for GCLocker too often allocating 4 words\n",
      "[290.499s][warning][gc,alloc] Spark Context Cleaner: Retried waiting for GCLocker too often allocating 386 words\n",
      "[290.499s][warning][gc,alloc] Executor task launch worker for task 1.0 in stage 473.0 (TID 1985): Retried waiting for GCLocker too often allocating 386 words\n",
      "[290.499s][warning][gc,alloc] spark-listener-group-appStatus: Retried waiting for GCLocker too often allocating 14 words\n"
     ]
    },
    {
     "name": "stderr",
     "output_type": "stream",
     "text": [
      "24/11/17 20:47:30 ERROR Utils: uncaught error in thread spark-listener-group-appStatus, stopping SparkContext\n",
      "java.lang.OutOfMemoryError: Java heap space\n",
      "24/11/17 20:47:30 ERROR Utils: throw uncaught fatal error in thread spark-listener-group-appStatus\n",
      "java.lang.OutOfMemoryError: Java heap space\n",
      "Exception in thread \"spark-listener-group-appStatus\" java.lang.OutOfMemoryError: Java heap space\n",
      "24/11/17 20:47:30 ERROR Executor: Exception in task 1.0 in stage 458.0 (TID 1955)\n",
      "java.lang.OutOfMemoryError: Java heap space\n",
      "\tat org.apache.spark.sql.catalyst.expressions.UnsafeArrayData.toDoubleArray(UnsafeArrayData.java:414)\n",
      "\tat org.apache.spark.ml.linalg.VectorUDT.deserialize(VectorUDT.scala:63)\n",
      "\tat org.apache.spark.sql.catalyst.expressions.GeneratedClass$SpecificSafeProjection.apply(Unknown Source)\n",
      "\tat org.apache.spark.sql.catalyst.encoders.ExpressionEncoder$Deserializer.apply(ExpressionEncoder.scala:188)\n",
      "\tat org.apache.spark.sql.catalyst.expressions.ScalaUDF.$anonfun$scalaConverter$2(ScalaUDF.scala:171)\n",
      "\tat org.apache.spark.sql.catalyst.expressions.ScalaUDF$$Lambda/0x00000008012d56e0.apply(Unknown Source)\n",
      "\tat org.apache.spark.sql.catalyst.expressions.GeneratedClass$GeneratedIteratorForCodegenStage5.hashAgg_doAggregateWithKeys_0$(Unknown Source)\n",
      "\tat org.apache.spark.sql.catalyst.expressions.GeneratedClass$GeneratedIteratorForCodegenStage5.processNext(Unknown Source)\n",
      "\tat org.apache.spark.sql.execution.BufferedRowIterator.hasNext(BufferedRowIterator.java:43)\n",
      "\tat org.apache.spark.sql.execution.WholeStageCodegenEvaluatorFactory$WholeStageCodegenPartitionEvaluator$$anon$1.hasNext(WholeStageCodegenEvaluatorFactory.scala:43)\n",
      "\tat scala.collection.Iterator$$anon$10.hasNext(Iterator.scala:460)\n",
      "\tat org.apache.spark.shuffle.sort.BypassMergeSortShuffleWriter.write(BypassMergeSortShuffleWriter.java:140)\n",
      "\tat org.apache.spark.shuffle.ShuffleWriteProcessor.write(ShuffleWriteProcessor.scala:59)\n",
      "\tat org.apache.spark.scheduler.ShuffleMapTask.runTask(ShuffleMapTask.scala:104)\n",
      "\tat org.apache.spark.scheduler.ShuffleMapTask.runTask(ShuffleMapTask.scala:54)\n",
      "\tat org.apache.spark.TaskContext.runTaskWithListeners(TaskContext.scala:166)\n",
      "\tat org.apache.spark.scheduler.Task.run(Task.scala:141)\n",
      "\tat org.apache.spark.executor.Executor$TaskRunner.$anonfun$run$4(Executor.scala:620)\n",
      "\tat org.apache.spark.executor.Executor$TaskRunner$$Lambda/0x00000008009e2570.apply(Unknown Source)\n",
      "\tat org.apache.spark.util.SparkErrorUtils.tryWithSafeFinally(SparkErrorUtils.scala:64)\n",
      "\tat org.apache.spark.util.SparkErrorUtils.tryWithSafeFinally$(SparkErrorUtils.scala:61)\n",
      "\tat org.apache.spark.util.Utils$.tryWithSafeFinally(Utils.scala:94)\n",
      "\tat org.apache.spark.executor.Executor$TaskRunner.run(Executor.scala:623)\n",
      "\tat java.base/java.util.concurrent.ThreadPoolExecutor.runWorker(ThreadPoolExecutor.java:1144)\n",
      "\tat java.base/java.util.concurrent.ThreadPoolExecutor$Worker.run(ThreadPoolExecutor.java:642)\n",
      "\tat java.base/java.lang.Thread.runWith(Thread.java:1596)\n",
      "\tat java.base/java.lang.Thread.run(Thread.java:1583)\n",
      "24/11/17 20:47:30 ERROR Executor: Exception in task 0.0 in stage 468.0 (TID 1974)\n",
      "java.lang.OutOfMemoryError: Java heap space\n",
      "\tat org.apache.spark.ml.linalg.VectorUDT.<init>(VectorUDT.scala:95)\n",
      "\tat org.apache.spark.sql.catalyst.expressions.GeneratedClass$SpecificSafeProjection.apply(Unknown Source)\n",
      "\tat org.apache.spark.sql.catalyst.encoders.ExpressionEncoder$Deserializer.apply(ExpressionEncoder.scala:188)\n",
      "\tat org.apache.spark.sql.catalyst.expressions.ScalaUDF.$anonfun$scalaConverter$2(ScalaUDF.scala:171)\n",
      "\tat org.apache.spark.sql.catalyst.expressions.ScalaUDF$$Lambda/0x00000008012d56e0.apply(Unknown Source)\n",
      "\tat org.apache.spark.sql.catalyst.expressions.GeneratedClass$GeneratedIteratorForCodegenStage5.hashAgg_doAggregateWithKeys_0$(Unknown Source)\n",
      "\tat org.apache.spark.sql.catalyst.expressions.GeneratedClass$GeneratedIteratorForCodegenStage5.processNext(Unknown Source)\n",
      "\tat org.apache.spark.sql.execution.BufferedRowIterator.hasNext(BufferedRowIterator.java:43)\n",
      "\tat org.apache.spark.sql.execution.WholeStageCodegenEvaluatorFactory$WholeStageCodegenPartitionEvaluator$$anon$1.hasNext(WholeStageCodegenEvaluatorFactory.scala:43)\n",
      "\tat scala.collection.Iterator$$anon$10.hasNext(Iterator.scala:460)\n",
      "\tat org.apache.spark.shuffle.sort.BypassMergeSortShuffleWriter.write(BypassMergeSortShuffleWriter.java:140)\n",
      "\tat org.apache.spark.shuffle.ShuffleWriteProcessor.write(ShuffleWriteProcessor.scala:59)\n",
      "\tat org.apache.spark.scheduler.ShuffleMapTask.runTask(ShuffleMapTask.scala:104)\n",
      "\tat org.apache.spark.scheduler.ShuffleMapTask.runTask(ShuffleMapTask.scala:54)\n",
      "\tat org.apache.spark.TaskContext.runTaskWithListeners(TaskContext.scala:166)\n",
      "\tat org.apache.spark.scheduler.Task.run(Task.scala:141)\n",
      "\tat org.apache.spark.executor.Executor$TaskRunner.$anonfun$run$4(Executor.scala:620)\n",
      "\tat org.apache.spark.executor.Executor$TaskRunner$$Lambda/0x00000008009e2570.apply(Unknown Source)\n",
      "\tat org.apache.spark.util.SparkErrorUtils.tryWithSafeFinally(SparkErrorUtils.scala:64)\n",
      "\tat org.apache.spark.util.SparkErrorUtils.tryWithSafeFinally$(SparkErrorUtils.scala:61)\n",
      "\tat org.apache.spark.util.Utils$.tryWithSafeFinally(Utils.scala:94)\n",
      "\tat org.apache.spark.executor.Executor$TaskRunner.run(Executor.scala:623)\n",
      "\tat java.base/java.util.concurrent.ThreadPoolExecutor.runWorker(ThreadPoolExecutor.java:1144)\n",
      "\tat java.base/java.util.concurrent.ThreadPoolExecutor$Worker.run(ThreadPoolExecutor.java:642)\n",
      "\tat java.base/java.lang.Thread.runWith(Thread.java:1596)\n",
      "\tat java.base/java.lang.Thread.run(Thread.java:1583)\n",
      "24/11/17 20:47:30 ERROR Executor: Exception in task 1.0 in stage 468.0 (TID 1975)\n",
      "java.lang.OutOfMemoryError: Java heap space\n",
      "\tat org.apache.spark.sql.catalyst.expressions.UnsafeArrayData.toDoubleArray(UnsafeArrayData.java:414)\n",
      "\tat org.apache.spark.ml.linalg.VectorUDT.deserialize(VectorUDT.scala:63)\n",
      "\tat org.apache.spark.sql.catalyst.expressions.GeneratedClass$SpecificSafeProjection.apply(Unknown Source)\n",
      "\tat org.apache.spark.sql.catalyst.encoders.ExpressionEncoder$Deserializer.apply(ExpressionEncoder.scala:188)\n",
      "\tat org.apache.spark.sql.catalyst.expressions.ScalaUDF.$anonfun$scalaConverter$2(ScalaUDF.scala:171)\n",
      "\tat org.apache.spark.sql.catalyst.expressions.ScalaUDF$$Lambda/0x00000008012d56e0.apply(Unknown Source)\n",
      "\tat org.apache.spark.sql.catalyst.expressions.GeneratedClass$GeneratedIteratorForCodegenStage5.hashAgg_doAggregateWithKeys_0$(Unknown Source)\n",
      "\tat org.apache.spark.sql.catalyst.expressions.GeneratedClass$GeneratedIteratorForCodegenStage5.processNext(Unknown Source)\n",
      "\tat org.apache.spark.sql.execution.BufferedRowIterator.hasNext(BufferedRowIterator.java:43)\n",
      "\tat org.apache.spark.sql.execution.WholeStageCodegenEvaluatorFactory$WholeStageCodegenPartitionEvaluator$$anon$1.hasNext(WholeStageCodegenEvaluatorFactory.scala:43)\n",
      "\tat scala.collection.Iterator$$anon$10.hasNext(Iterator.scala:460)\n",
      "\tat org.apache.spark.shuffle.sort.BypassMergeSortShuffleWriter.write(BypassMergeSortShuffleWriter.java:140)\n",
      "\tat org.apache.spark.shuffle.ShuffleWriteProcessor.write(ShuffleWriteProcessor.scala:59)\n",
      "\tat org.apache.spark.scheduler.ShuffleMapTask.runTask(ShuffleMapTask.scala:104)\n",
      "\tat org.apache.spark.scheduler.ShuffleMapTask.runTask(ShuffleMapTask.scala:54)\n",
      "\tat org.apache.spark.TaskContext.runTaskWithListeners(TaskContext.scala:166)\n",
      "\tat org.apache.spark.scheduler.Task.run(Task.scala:141)\n",
      "\tat org.apache.spark.executor.Executor$TaskRunner.$anonfun$run$4(Executor.scala:620)\n",
      "\tat org.apache.spark.executor.Executor$TaskRunner$$Lambda/0x00000008009e2570.apply(Unknown Source)\n",
      "\tat org.apache.spark.util.SparkErrorUtils.tryWithSafeFinally(SparkErrorUtils.scala:64)\n",
      "\tat org.apache.spark.util.SparkErrorUtils.tryWithSafeFinally$(SparkErrorUtils.scala:61)\n",
      "\tat org.apache.spark.util.Utils$.tryWithSafeFinally(Utils.scala:94)\n",
      "\tat org.apache.spark.executor.Executor$TaskRunner.run(Executor.scala:623)\n",
      "\tat java.base/java.util.concurrent.ThreadPoolExecutor.runWorker(ThreadPoolExecutor.java:1144)\n",
      "\tat java.base/java.util.concurrent.ThreadPoolExecutor$Worker.run(ThreadPoolExecutor.java:642)\n",
      "\tat java.base/java.lang.Thread.runWith(Thread.java:1596)\n",
      "\tat java.base/java.lang.Thread.run(Thread.java:1583)\n",
      "24/11/17 20:47:30 ERROR Executor: Exception in task 1.0 in stage 473.0 (TID 1985)\n",
      "java.lang.OutOfMemoryError: Java heap space\n",
      "\tat org.apache.spark.sql.catalyst.expressions.UnsafeRow.copy(UnsafeRow.java:469)\n",
      "\tat org.apache.spark.sql.execution.ExternalAppendOnlyUnsafeRowArray.add(ExternalAppendOnlyUnsafeRowArray.scala:122)\n",
      "\tat org.apache.spark.sql.catalyst.expressions.GeneratedClass$GeneratedIteratorForCodegenStage5.smj_findNextJoinRows_0$(Unknown Source)\n",
      "\tat org.apache.spark.sql.catalyst.expressions.GeneratedClass$GeneratedIteratorForCodegenStage5.hashAgg_doAggregateWithKeys_0$(Unknown Source)\n",
      "\tat org.apache.spark.sql.catalyst.expressions.GeneratedClass$GeneratedIteratorForCodegenStage5.processNext(Unknown Source)\n",
      "\tat org.apache.spark.sql.execution.BufferedRowIterator.hasNext(BufferedRowIterator.java:43)\n",
      "\tat org.apache.spark.sql.execution.WholeStageCodegenEvaluatorFactory$WholeStageCodegenPartitionEvaluator$$anon$1.hasNext(WholeStageCodegenEvaluatorFactory.scala:43)\n",
      "\tat scala.collection.Iterator$$anon$10.hasNext(Iterator.scala:460)\n",
      "\tat org.apache.spark.shuffle.sort.BypassMergeSortShuffleWriter.write(BypassMergeSortShuffleWriter.java:140)\n",
      "\tat org.apache.spark.shuffle.ShuffleWriteProcessor.write(ShuffleWriteProcessor.scala:59)\n",
      "\tat org.apache.spark.scheduler.ShuffleMapTask.runTask(ShuffleMapTask.scala:104)\n",
      "\tat org.apache.spark.scheduler.ShuffleMapTask.runTask(ShuffleMapTask.scala:54)\n",
      "\tat org.apache.spark.TaskContext.runTaskWithListeners(TaskContext.scala:166)\n",
      "\tat org.apache.spark.scheduler.Task.run(Task.scala:141)\n",
      "\tat org.apache.spark.executor.Executor$TaskRunner.$anonfun$run$4(Executor.scala:620)\n",
      "\tat org.apache.spark.executor.Executor$TaskRunner$$Lambda/0x00000008009e2570.apply(Unknown Source)\n",
      "\tat org.apache.spark.util.SparkErrorUtils.tryWithSafeFinally(SparkErrorUtils.scala:64)\n",
      "\tat org.apache.spark.util.SparkErrorUtils.tryWithSafeFinally$(SparkErrorUtils.scala:61)\n",
      "\tat org.apache.spark.util.Utils$.tryWithSafeFinally(Utils.scala:94)\n",
      "\tat org.apache.spark.executor.Executor$TaskRunner.run(Executor.scala:623)\n",
      "\tat java.base/java.util.concurrent.ThreadPoolExecutor.runWorker(ThreadPoolExecutor.java:1144)\n",
      "\tat java.base/java.util.concurrent.ThreadPoolExecutor$Worker.run(ThreadPoolExecutor.java:642)\n",
      "\tat java.base/java.lang.Thread.runWith(Thread.java:1596)\n",
      "\tat java.base/java.lang.Thread.run(Thread.java:1583)\n",
      "24/11/17 20:47:30 ERROR SparkUncaughtExceptionHandler: Uncaught exception in thread Thread[#351,Executor task launch worker for task 1.0 in stage 458.0 (TID 1955),5,main]\n",
      "java.lang.OutOfMemoryError: Java heap space\n",
      "\tat org.apache.spark.sql.catalyst.expressions.UnsafeArrayData.toDoubleArray(UnsafeArrayData.java:414)\n",
      "\tat org.apache.spark.ml.linalg.VectorUDT.deserialize(VectorUDT.scala:63)\n",
      "\tat org.apache.spark.sql.catalyst.expressions.GeneratedClass$SpecificSafeProjection.apply(Unknown Source)\n",
      "\tat org.apache.spark.sql.catalyst.encoders.ExpressionEncoder$Deserializer.apply(ExpressionEncoder.scala:188)\n",
      "\tat org.apache.spark.sql.catalyst.expressions.ScalaUDF.$anonfun$scalaConverter$2(ScalaUDF.scala:171)\n",
      "\tat org.apache.spark.sql.catalyst.expressions.ScalaUDF$$Lambda/0x00000008012d56e0.apply(Unknown Source)\n",
      "\tat org.apache.spark.sql.catalyst.expressions.GeneratedClass$GeneratedIteratorForCodegenStage5.hashAgg_doAggregateWithKeys_0$(Unknown Source)\n",
      "\tat org.apache.spark.sql.catalyst.expressions.GeneratedClass$GeneratedIteratorForCodegenStage5.processNext(Unknown Source)\n",
      "\tat org.apache.spark.sql.execution.BufferedRowIterator.hasNext(BufferedRowIterator.java:43)\n",
      "\tat org.apache.spark.sql.execution.WholeStageCodegenEvaluatorFactory$WholeStageCodegenPartitionEvaluator$$anon$1.hasNext(WholeStageCodegenEvaluatorFactory.scala:43)\n",
      "\tat scala.collection.Iterator$$anon$10.hasNext(Iterator.scala:460)\n",
      "\tat org.apache.spark.shuffle.sort.BypassMergeSortShuffleWriter.write(BypassMergeSortShuffleWriter.java:140)\n",
      "\tat org.apache.spark.shuffle.ShuffleWriteProcessor.write(ShuffleWriteProcessor.scala:59)\n",
      "\tat org.apache.spark.scheduler.ShuffleMapTask.runTask(ShuffleMapTask.scala:104)\n",
      "\tat org.apache.spark.scheduler.ShuffleMapTask.runTask(ShuffleMapTask.scala:54)\n",
      "\tat org.apache.spark.TaskContext.runTaskWithListeners(TaskContext.scala:166)\n",
      "\tat org.apache.spark.scheduler.Task.run(Task.scala:141)\n",
      "\tat org.apache.spark.executor.Executor$TaskRunner.$anonfun$run$4(Executor.scala:620)\n",
      "\tat org.apache.spark.executor.Executor$TaskRunner$$Lambda/0x00000008009e2570.apply(Unknown Source)\n",
      "\tat org.apache.spark.util.SparkErrorUtils.tryWithSafeFinally(SparkErrorUtils.scala:64)\n",
      "\tat org.apache.spark.util.SparkErrorUtils.tryWithSafeFinally$(SparkErrorUtils.scala:61)\n",
      "\tat org.apache.spark.util.Utils$.tryWithSafeFinally(Utils.scala:94)\n",
      "\tat org.apache.spark.executor.Executor$TaskRunner.run(Executor.scala:623)\n",
      "\tat java.base/java.util.concurrent.ThreadPoolExecutor.runWorker(ThreadPoolExecutor.java:1144)\n",
      "\tat java.base/java.util.concurrent.ThreadPoolExecutor$Worker.run(ThreadPoolExecutor.java:642)\n",
      "\tat java.base/java.lang.Thread.runWith(Thread.java:1596)\n",
      "\tat java.base/java.lang.Thread.run(Thread.java:1583)\n",
      "24/11/17 20:47:30 ERROR SparkUncaughtExceptionHandler: [Container in shutdown] Uncaught exception in thread Thread[#413,Executor task launch worker for task 1.0 in stage 473.0 (TID 1985),5,main]\n",
      "java.lang.OutOfMemoryError: Java heap space\n",
      "\tat org.apache.spark.sql.catalyst.expressions.UnsafeRow.copy(UnsafeRow.java:469)\n",
      "\tat org.apache.spark.sql.execution.ExternalAppendOnlyUnsafeRowArray.add(ExternalAppendOnlyUnsafeRowArray.scala:122)\n",
      "\tat org.apache.spark.sql.catalyst.expressions.GeneratedClass$GeneratedIteratorForCodegenStage5.smj_findNextJoinRows_0$(Unknown Source)\n",
      "\tat org.apache.spark.sql.catalyst.expressions.GeneratedClass$GeneratedIteratorForCodegenStage5.hashAgg_doAggregateWithKeys_0$(Unknown Source)\n",
      "\tat org.apache.spark.sql.catalyst.expressions.GeneratedClass$GeneratedIteratorForCodegenStage5.processNext(Unknown Source)\n",
      "\tat org.apache.spark.sql.execution.BufferedRowIterator.hasNext(BufferedRowIterator.java:43)\n",
      "\tat org.apache.spark.sql.execution.WholeStageCodegenEvaluatorFactory$WholeStageCodegenPartitionEvaluator$$anon$1.hasNext(WholeStageCodegenEvaluatorFactory.scala:43)\n",
      "\tat scala.collection.Iterator$$anon$10.hasNext(Iterator.scala:460)\n",
      "\tat org.apache.spark.shuffle.sort.BypassMergeSortShuffleWriter.write(BypassMergeSortShuffleWriter.java:140)\n",
      "\tat org.apache.spark.shuffle.ShuffleWriteProcessor.write(ShuffleWriteProcessor.scala:59)\n",
      "\tat org.apache.spark.scheduler.ShuffleMapTask.runTask(ShuffleMapTask.scala:104)\n",
      "\tat org.apache.spark.scheduler.ShuffleMapTask.runTask(ShuffleMapTask.scala:54)\n",
      "\tat org.apache.spark.TaskContext.runTaskWithListeners(TaskContext.scala:166)\n",
      "\tat org.apache.spark.scheduler.Task.run(Task.scala:141)\n",
      "\tat org.apache.spark.executor.Executor$TaskRunner.$anonfun$run$4(Executor.scala:620)\n",
      "\tat org.apache.spark.executor.Executor$TaskRunner$$Lambda/0x00000008009e2570.apply(Unknown Source)\n",
      "\tat org.apache.spark.util.SparkErrorUtils.tryWithSafeFinally(SparkErrorUtils.scala:64)\n",
      "\tat org.apache.spark.util.SparkErrorUtils.tryWithSafeFinally$(SparkErrorUtils.scala:61)\n",
      "\tat org.apache.spark.util.Utils$.tryWithSafeFinally(Utils.scala:94)\n",
      "\tat org.apache.spark.executor.Executor$TaskRunner.run(Executor.scala:623)\n",
      "\tat java.base/java.util.concurrent.ThreadPoolExecutor.runWorker(ThreadPoolExecutor.java:1144)\n",
      "\tat java.base/java.util.concurrent.ThreadPoolExecutor$Worker.run(ThreadPoolExecutor.java:642)\n",
      "\tat java.base/java.lang.Thread.runWith(Thread.java:1596)\n",
      "\tat java.base/java.lang.Thread.run(Thread.java:1583)\n",
      "24/11/17 20:47:30 ERROR SparkUncaughtExceptionHandler: Uncaught exception in thread Thread[#350,Executor task launch worker for task 0.0 in stage 468.0 (TID 1974),5,main]\n",
      "java.lang.OutOfMemoryError: Java heap space\n",
      "\tat org.apache.spark.ml.linalg.VectorUDT.<init>(VectorUDT.scala:95)\n",
      "\tat org.apache.spark.sql.catalyst.expressions.GeneratedClass$SpecificSafeProjection.apply(Unknown Source)\n",
      "\tat org.apache.spark.sql.catalyst.encoders.ExpressionEncoder$Deserializer.apply(ExpressionEncoder.scala:188)\n",
      "\tat org.apache.spark.sql.catalyst.expressions.ScalaUDF.$anonfun$scalaConverter$2(ScalaUDF.scala:171)\n",
      "\tat org.apache.spark.sql.catalyst.expressions.ScalaUDF$$Lambda/0x00000008012d56e0.apply(Unknown Source)\n",
      "\tat org.apache.spark.sql.catalyst.expressions.GeneratedClass$GeneratedIteratorForCodegenStage5.hashAgg_doAggregateWithKeys_0$(Unknown Source)\n",
      "\tat org.apache.spark.sql.catalyst.expressions.GeneratedClass$GeneratedIteratorForCodegenStage5.processNext(Unknown Source)\n",
      "\tat org.apache.spark.sql.execution.BufferedRowIterator.hasNext(BufferedRowIterator.java:43)\n",
      "\tat org.apache.spark.sql.execution.WholeStageCodegenEvaluatorFactory$WholeStageCodegenPartitionEvaluator$$anon$1.hasNext(WholeStageCodegenEvaluatorFactory.scala:43)\n",
      "\tat scala.collection.Iterator$$anon$10.hasNext(Iterator.scala:460)\n",
      "\tat org.apache.spark.shuffle.sort.BypassMergeSortShuffleWriter.write(BypassMergeSortShuffleWriter.java:140)\n",
      "\tat org.apache.spark.shuffle.ShuffleWriteProcessor.write(ShuffleWriteProcessor.scala:59)\n",
      "\tat org.apache.spark.scheduler.ShuffleMapTask.runTask(ShuffleMapTask.scala:104)\n",
      "\tat org.apache.spark.scheduler.ShuffleMapTask.runTask(ShuffleMapTask.scala:54)\n",
      "\tat org.apache.spark.TaskContext.runTaskWithListeners(TaskContext.scala:166)\n",
      "\tat org.apache.spark.scheduler.Task.run(Task.scala:141)\n",
      "\tat org.apache.spark.executor.Executor$TaskRunner.$anonfun$run$4(Executor.scala:620)\n",
      "\tat org.apache.spark.executor.Executor$TaskRunner$$Lambda/0x00000008009e2570.apply(Unknown Source)\n",
      "\tat org.apache.spark.util.SparkErrorUtils.tryWithSafeFinally(SparkErrorUtils.scala:64)\n",
      "\tat org.apache.spark.util.SparkErrorUtils.tryWithSafeFinally$(SparkErrorUtils.scala:61)\n",
      "\tat org.apache.spark.util.Utils$.tryWithSafeFinally(Utils.scala:94)\n",
      "\tat org.apache.spark.executor.Executor$TaskRunner.run(Executor.scala:623)\n",
      "\tat java.base/java.util.concurrent.ThreadPoolExecutor.runWorker(ThreadPoolExecutor.java:1144)\n",
      "\tat java.base/java.util.concurrent.ThreadPoolExecutor$Worker.run(ThreadPoolExecutor.java:642)\n",
      "\tat java.base/java.lang.Thread.runWith(Thread.java:1596)\n",
      "\tat java.base/java.lang.Thread.run(Thread.java:1583)\n",
      "24/11/17 20:47:30 ERROR SparkUncaughtExceptionHandler: [Container in shutdown] Uncaught exception in thread Thread[#107,Executor task launch worker for task 1.0 in stage 468.0 (TID 1975),5,main]\n",
      "java.lang.OutOfMemoryError: Java heap space\n",
      "\tat org.apache.spark.sql.catalyst.expressions.UnsafeArrayData.toDoubleArray(UnsafeArrayData.java:414)\n",
      "\tat org.apache.spark.ml.linalg.VectorUDT.deserialize(VectorUDT.scala:63)\n",
      "\tat org.apache.spark.sql.catalyst.expressions.GeneratedClass$SpecificSafeProjection.apply(Unknown Source)\n",
      "\tat org.apache.spark.sql.catalyst.encoders.ExpressionEncoder$Deserializer.apply(ExpressionEncoder.scala:188)\n",
      "\tat org.apache.spark.sql.catalyst.expressions.ScalaUDF.$anonfun$scalaConverter$2(ScalaUDF.scala:171)\n",
      "\tat org.apache.spark.sql.catalyst.expressions.ScalaUDF$$Lambda/0x00000008012d56e0.apply(Unknown Source)\n",
      "\tat org.apache.spark.sql.catalyst.expressions.GeneratedClass$GeneratedIteratorForCodegenStage5.hashAgg_doAggregateWithKeys_0$(Unknown Source)\n",
      "\tat org.apache.spark.sql.catalyst.expressions.GeneratedClass$GeneratedIteratorForCodegenStage5.processNext(Unknown Source)\n",
      "\tat org.apache.spark.sql.execution.BufferedRowIterator.hasNext(BufferedRowIterator.java:43)\n",
      "\tat org.apache.spark.sql.execution.WholeStageCodegenEvaluatorFactory$WholeStageCodegenPartitionEvaluator$$anon$1.hasNext(WholeStageCodegenEvaluatorFactory.scala:43)\n",
      "\tat scala.collection.Iterator$$anon$10.hasNext(Iterator.scala:460)\n",
      "\tat org.apache.spark.shuffle.sort.BypassMergeSortShuffleWriter.write(BypassMergeSortShuffleWriter.java:140)\n",
      "\tat org.apache.spark.shuffle.ShuffleWriteProcessor.write(ShuffleWriteProcessor.scala:59)\n",
      "\tat org.apache.spark.scheduler.ShuffleMapTask.runTask(ShuffleMapTask.scala:104)\n",
      "\tat org.apache.spark.scheduler.ShuffleMapTask.runTask(ShuffleMapTask.scala:54)\n",
      "\tat org.apache.spark.TaskContext.runTaskWithListeners(TaskContext.scala:166)\n",
      "\tat org.apache.spark.scheduler.Task.run(Task.scala:141)\n",
      "\tat org.apache.spark.executor.Executor$TaskRunner.$anonfun$run$4(Executor.scala:620)\n",
      "\tat org.apache.spark.executor.Executor$TaskRunner$$Lambda/0x00000008009e2570.apply(Unknown Source)\n",
      "\tat org.apache.spark.util.SparkErrorUtils.tryWithSafeFinally(SparkErrorUtils.scala:64)\n",
      "\tat org.apache.spark.util.SparkErrorUtils.tryWithSafeFinally$(SparkErrorUtils.scala:61)\n",
      "\tat org.apache.spark.util.Utils$.tryWithSafeFinally(Utils.scala:94)\n",
      "\tat org.apache.spark.executor.Executor$TaskRunner.run(Executor.scala:623)\n",
      "\tat java.base/java.util.concurrent.ThreadPoolExecutor.runWorker(ThreadPoolExecutor.java:1144)\n",
      "\tat java.base/java.util.concurrent.ThreadPoolExecutor$Worker.run(ThreadPoolExecutor.java:642)\n",
      "\tat java.base/java.lang.Thread.runWith(Thread.java:1596)\n",
      "\tat java.base/java.lang.Thread.run(Thread.java:1583)\n",
      "24/11/17 20:47:30 ERROR TaskSetManager: Task 1 in stage 458.0 failed 1 times; aborting job\n",
      "24/11/17 20:47:30 ERROR TaskSetManager: Task 1 in stage 468.0 failed 1 times; aborting job\n",
      "24/11/17 20:47:30 ERROR TaskSetManager: Task 1 in stage 473.0 failed 1 times; aborting job\n"
     ]
    },
    {
     "ename": "Py4JJavaError",
     "evalue": "An error occurred while calling o497.showString.\n: org.apache.spark.SparkException: Job 36 cancelled because SparkContext was shut down\n\tat org.apache.spark.scheduler.DAGScheduler.$anonfun$cleanUpAfterSchedulerStop$1(DAGScheduler.scala:1253)\n\tat org.apache.spark.scheduler.DAGScheduler.$anonfun$cleanUpAfterSchedulerStop$1$adapted(DAGScheduler.scala:1251)\n\tat scala.collection.mutable.HashSet.foreach(HashSet.scala:79)\n\tat org.apache.spark.scheduler.DAGScheduler.cleanUpAfterSchedulerStop(DAGScheduler.scala:1251)\n\tat org.apache.spark.scheduler.DAGSchedulerEventProcessLoop.onStop(DAGScheduler.scala:3087)\n\tat org.apache.spark.util.EventLoop.stop(EventLoop.scala:84)\n\tat org.apache.spark.scheduler.DAGScheduler.$anonfun$stop$3(DAGScheduler.scala:2973)\n\tat org.apache.spark.util.Utils$.tryLogNonFatalError(Utils.scala:1375)\n\tat org.apache.spark.scheduler.DAGScheduler.stop(DAGScheduler.scala:2973)\n\tat org.apache.spark.SparkContext.$anonfun$stop$12(SparkContext.scala:2258)\n\tat org.apache.spark.util.Utils$.tryLogNonFatalError(Utils.scala:1375)\n\tat org.apache.spark.SparkContext.stop(SparkContext.scala:2258)\n\tat org.apache.spark.SparkContext.stop(SparkContext.scala:2211)\n\tat org.apache.spark.SparkContext$$anon$3.run(SparkContext.scala:2198)\n",
     "output_type": "error",
     "traceback": [
      "\u001b[0;31m---------------------------------------------------------------------------\u001b[0m",
      "\u001b[0;31mPy4JJavaError\u001b[0m                             Traceback (most recent call last)",
      "Cell \u001b[0;32mIn[19], line 19\u001b[0m\n\u001b[1;32m      4\u001b[0m brp_model: BucketedRandomProjectionLSHModel \u001b[38;5;241m=\u001b[39m model\u001b[38;5;241m.\u001b[39mstages[\u001b[38;5;241m-\u001b[39m\u001b[38;5;241m1\u001b[39m]\n\u001b[1;32m      8\u001b[0m similar_games \u001b[38;5;241m=\u001b[39m brp_model\\\n\u001b[1;32m      9\u001b[0m     \u001b[38;5;241m.\u001b[39mapproxSimilarityJoin(\n\u001b[1;32m     10\u001b[0m         left, right, threshold\u001b[38;5;241m=\u001b[39m\u001b[38;5;241m0.0\u001b[39m, distCol\u001b[38;5;241m=\u001b[39m\u001b[38;5;124m\"\u001b[39m\u001b[38;5;124mEuclideanDistance\u001b[39m\u001b[38;5;124m\"\u001b[39m\n\u001b[1;32m     11\u001b[0m     )\\\n\u001b[1;32m     12\u001b[0m     \u001b[38;5;241m.\u001b[39mfilter(F\u001b[38;5;241m.\u001b[39mcol(\u001b[38;5;124m\"\u001b[39m\u001b[38;5;124mdatasetA.app_id\u001b[39m\u001b[38;5;124m\"\u001b[39m) \u001b[38;5;241m<\u001b[39m F\u001b[38;5;241m.\u001b[39mcol(\u001b[38;5;124m\"\u001b[39m\u001b[38;5;124mdatasetB.app_id\u001b[39m\u001b[38;5;124m\"\u001b[39m))\\\n\u001b[1;32m     14\u001b[0m \u001b[43msimilar_games\u001b[49m\u001b[43m\\\u001b[49m\n\u001b[1;32m     15\u001b[0m \u001b[43m    \u001b[49m\u001b[38;5;241;43m.\u001b[39;49m\u001b[43mselect\u001b[49m\u001b[43m(\u001b[49m\n\u001b[1;32m     16\u001b[0m \u001b[43m        \u001b[49m\u001b[38;5;124;43m\"\u001b[39;49m\u001b[38;5;124;43mdatasetA.app_id\u001b[39;49m\u001b[38;5;124;43m\"\u001b[39;49m\u001b[43m,\u001b[49m\n\u001b[1;32m     17\u001b[0m \u001b[43m        \u001b[49m\u001b[38;5;124;43m\"\u001b[39;49m\u001b[38;5;124;43mdatasetB.app_id\u001b[39;49m\u001b[38;5;124;43m\"\u001b[39;49m\u001b[43m,\u001b[49m\n\u001b[1;32m     18\u001b[0m \u001b[43m        \u001b[49m\u001b[38;5;124;43m\"\u001b[39;49m\u001b[38;5;124;43mEuclideanDistance\u001b[39;49m\u001b[38;5;124;43m\"\u001b[39;49m\n\u001b[0;32m---> 19\u001b[0m \u001b[43m    \u001b[49m\u001b[43m)\u001b[49m\u001b[38;5;241;43m.\u001b[39;49m\u001b[43mshow\u001b[49m\u001b[43m(\u001b[49m\u001b[43m)\u001b[49m\n",
      "File \u001b[0;32m~/dev/dtu/03semester/CTFDS/DTU-CTFDS-02807-PROJ/.venv/lib/python3.13/site-packages/pyspark/sql/dataframe.py:947\u001b[0m, in \u001b[0;36mDataFrame.show\u001b[0;34m(self, n, truncate, vertical)\u001b[0m\n\u001b[1;32m    887\u001b[0m \u001b[38;5;28;01mdef\u001b[39;00m \u001b[38;5;21mshow\u001b[39m(\u001b[38;5;28mself\u001b[39m, n: \u001b[38;5;28mint\u001b[39m \u001b[38;5;241m=\u001b[39m \u001b[38;5;241m20\u001b[39m, truncate: Union[\u001b[38;5;28mbool\u001b[39m, \u001b[38;5;28mint\u001b[39m] \u001b[38;5;241m=\u001b[39m \u001b[38;5;28;01mTrue\u001b[39;00m, vertical: \u001b[38;5;28mbool\u001b[39m \u001b[38;5;241m=\u001b[39m \u001b[38;5;28;01mFalse\u001b[39;00m) \u001b[38;5;241m-\u001b[39m\u001b[38;5;241m>\u001b[39m \u001b[38;5;28;01mNone\u001b[39;00m:\n\u001b[1;32m    888\u001b[0m \u001b[38;5;250m    \u001b[39m\u001b[38;5;124;03m\"\"\"Prints the first ``n`` rows to the console.\u001b[39;00m\n\u001b[1;32m    889\u001b[0m \n\u001b[1;32m    890\u001b[0m \u001b[38;5;124;03m    .. versionadded:: 1.3.0\u001b[39;00m\n\u001b[0;32m   (...)\u001b[0m\n\u001b[1;32m    945\u001b[0m \u001b[38;5;124;03m    name | Bob\u001b[39;00m\n\u001b[1;32m    946\u001b[0m \u001b[38;5;124;03m    \"\"\"\u001b[39;00m\n\u001b[0;32m--> 947\u001b[0m     \u001b[38;5;28mprint\u001b[39m(\u001b[38;5;28;43mself\u001b[39;49m\u001b[38;5;241;43m.\u001b[39;49m\u001b[43m_show_string\u001b[49m\u001b[43m(\u001b[49m\u001b[43mn\u001b[49m\u001b[43m,\u001b[49m\u001b[43m \u001b[49m\u001b[43mtruncate\u001b[49m\u001b[43m,\u001b[49m\u001b[43m \u001b[49m\u001b[43mvertical\u001b[49m\u001b[43m)\u001b[49m)\n",
      "File \u001b[0;32m~/dev/dtu/03semester/CTFDS/DTU-CTFDS-02807-PROJ/.venv/lib/python3.13/site-packages/pyspark/sql/dataframe.py:965\u001b[0m, in \u001b[0;36mDataFrame._show_string\u001b[0;34m(self, n, truncate, vertical)\u001b[0m\n\u001b[1;32m    959\u001b[0m     \u001b[38;5;28;01mraise\u001b[39;00m PySparkTypeError(\n\u001b[1;32m    960\u001b[0m         error_class\u001b[38;5;241m=\u001b[39m\u001b[38;5;124m\"\u001b[39m\u001b[38;5;124mNOT_BOOL\u001b[39m\u001b[38;5;124m\"\u001b[39m,\n\u001b[1;32m    961\u001b[0m         message_parameters\u001b[38;5;241m=\u001b[39m{\u001b[38;5;124m\"\u001b[39m\u001b[38;5;124marg_name\u001b[39m\u001b[38;5;124m\"\u001b[39m: \u001b[38;5;124m\"\u001b[39m\u001b[38;5;124mvertical\u001b[39m\u001b[38;5;124m\"\u001b[39m, \u001b[38;5;124m\"\u001b[39m\u001b[38;5;124marg_type\u001b[39m\u001b[38;5;124m\"\u001b[39m: \u001b[38;5;28mtype\u001b[39m(vertical)\u001b[38;5;241m.\u001b[39m\u001b[38;5;18m__name__\u001b[39m},\n\u001b[1;32m    962\u001b[0m     )\n\u001b[1;32m    964\u001b[0m \u001b[38;5;28;01mif\u001b[39;00m \u001b[38;5;28misinstance\u001b[39m(truncate, \u001b[38;5;28mbool\u001b[39m) \u001b[38;5;129;01mand\u001b[39;00m truncate:\n\u001b[0;32m--> 965\u001b[0m     \u001b[38;5;28;01mreturn\u001b[39;00m \u001b[38;5;28;43mself\u001b[39;49m\u001b[38;5;241;43m.\u001b[39;49m\u001b[43m_jdf\u001b[49m\u001b[38;5;241;43m.\u001b[39;49m\u001b[43mshowString\u001b[49m\u001b[43m(\u001b[49m\u001b[43mn\u001b[49m\u001b[43m,\u001b[49m\u001b[43m \u001b[49m\u001b[38;5;241;43m20\u001b[39;49m\u001b[43m,\u001b[49m\u001b[43m \u001b[49m\u001b[43mvertical\u001b[49m\u001b[43m)\u001b[49m\n\u001b[1;32m    966\u001b[0m \u001b[38;5;28;01melse\u001b[39;00m:\n\u001b[1;32m    967\u001b[0m     \u001b[38;5;28;01mtry\u001b[39;00m:\n",
      "File \u001b[0;32m~/dev/dtu/03semester/CTFDS/DTU-CTFDS-02807-PROJ/.venv/lib/python3.13/site-packages/py4j/java_gateway.py:1322\u001b[0m, in \u001b[0;36mJavaMember.__call__\u001b[0;34m(self, *args)\u001b[0m\n\u001b[1;32m   1316\u001b[0m command \u001b[38;5;241m=\u001b[39m proto\u001b[38;5;241m.\u001b[39mCALL_COMMAND_NAME \u001b[38;5;241m+\u001b[39m\\\n\u001b[1;32m   1317\u001b[0m     \u001b[38;5;28mself\u001b[39m\u001b[38;5;241m.\u001b[39mcommand_header \u001b[38;5;241m+\u001b[39m\\\n\u001b[1;32m   1318\u001b[0m     args_command \u001b[38;5;241m+\u001b[39m\\\n\u001b[1;32m   1319\u001b[0m     proto\u001b[38;5;241m.\u001b[39mEND_COMMAND_PART\n\u001b[1;32m   1321\u001b[0m answer \u001b[38;5;241m=\u001b[39m \u001b[38;5;28mself\u001b[39m\u001b[38;5;241m.\u001b[39mgateway_client\u001b[38;5;241m.\u001b[39msend_command(command)\n\u001b[0;32m-> 1322\u001b[0m return_value \u001b[38;5;241m=\u001b[39m \u001b[43mget_return_value\u001b[49m\u001b[43m(\u001b[49m\n\u001b[1;32m   1323\u001b[0m \u001b[43m    \u001b[49m\u001b[43manswer\u001b[49m\u001b[43m,\u001b[49m\u001b[43m \u001b[49m\u001b[38;5;28;43mself\u001b[39;49m\u001b[38;5;241;43m.\u001b[39;49m\u001b[43mgateway_client\u001b[49m\u001b[43m,\u001b[49m\u001b[43m \u001b[49m\u001b[38;5;28;43mself\u001b[39;49m\u001b[38;5;241;43m.\u001b[39;49m\u001b[43mtarget_id\u001b[49m\u001b[43m,\u001b[49m\u001b[43m \u001b[49m\u001b[38;5;28;43mself\u001b[39;49m\u001b[38;5;241;43m.\u001b[39;49m\u001b[43mname\u001b[49m\u001b[43m)\u001b[49m\n\u001b[1;32m   1325\u001b[0m \u001b[38;5;28;01mfor\u001b[39;00m temp_arg \u001b[38;5;129;01min\u001b[39;00m temp_args:\n\u001b[1;32m   1326\u001b[0m     \u001b[38;5;28;01mif\u001b[39;00m \u001b[38;5;28mhasattr\u001b[39m(temp_arg, \u001b[38;5;124m\"\u001b[39m\u001b[38;5;124m_detach\u001b[39m\u001b[38;5;124m\"\u001b[39m):\n",
      "File \u001b[0;32m~/dev/dtu/03semester/CTFDS/DTU-CTFDS-02807-PROJ/.venv/lib/python3.13/site-packages/pyspark/errors/exceptions/captured.py:179\u001b[0m, in \u001b[0;36mcapture_sql_exception.<locals>.deco\u001b[0;34m(*a, **kw)\u001b[0m\n\u001b[1;32m    177\u001b[0m \u001b[38;5;28;01mdef\u001b[39;00m \u001b[38;5;21mdeco\u001b[39m(\u001b[38;5;241m*\u001b[39ma: Any, \u001b[38;5;241m*\u001b[39m\u001b[38;5;241m*\u001b[39mkw: Any) \u001b[38;5;241m-\u001b[39m\u001b[38;5;241m>\u001b[39m Any:\n\u001b[1;32m    178\u001b[0m     \u001b[38;5;28;01mtry\u001b[39;00m:\n\u001b[0;32m--> 179\u001b[0m         \u001b[38;5;28;01mreturn\u001b[39;00m \u001b[43mf\u001b[49m\u001b[43m(\u001b[49m\u001b[38;5;241;43m*\u001b[39;49m\u001b[43ma\u001b[49m\u001b[43m,\u001b[49m\u001b[43m \u001b[49m\u001b[38;5;241;43m*\u001b[39;49m\u001b[38;5;241;43m*\u001b[39;49m\u001b[43mkw\u001b[49m\u001b[43m)\u001b[49m\n\u001b[1;32m    180\u001b[0m     \u001b[38;5;28;01mexcept\u001b[39;00m Py4JJavaError \u001b[38;5;28;01mas\u001b[39;00m e:\n\u001b[1;32m    181\u001b[0m         converted \u001b[38;5;241m=\u001b[39m convert_exception(e\u001b[38;5;241m.\u001b[39mjava_exception)\n",
      "File \u001b[0;32m~/dev/dtu/03semester/CTFDS/DTU-CTFDS-02807-PROJ/.venv/lib/python3.13/site-packages/py4j/protocol.py:326\u001b[0m, in \u001b[0;36mget_return_value\u001b[0;34m(answer, gateway_client, target_id, name)\u001b[0m\n\u001b[1;32m    324\u001b[0m value \u001b[38;5;241m=\u001b[39m OUTPUT_CONVERTER[\u001b[38;5;28mtype\u001b[39m](answer[\u001b[38;5;241m2\u001b[39m:], gateway_client)\n\u001b[1;32m    325\u001b[0m \u001b[38;5;28;01mif\u001b[39;00m answer[\u001b[38;5;241m1\u001b[39m] \u001b[38;5;241m==\u001b[39m REFERENCE_TYPE:\n\u001b[0;32m--> 326\u001b[0m     \u001b[38;5;28;01mraise\u001b[39;00m Py4JJavaError(\n\u001b[1;32m    327\u001b[0m         \u001b[38;5;124m\"\u001b[39m\u001b[38;5;124mAn error occurred while calling \u001b[39m\u001b[38;5;132;01m{0}\u001b[39;00m\u001b[38;5;132;01m{1}\u001b[39;00m\u001b[38;5;132;01m{2}\u001b[39;00m\u001b[38;5;124m.\u001b[39m\u001b[38;5;130;01m\\n\u001b[39;00m\u001b[38;5;124m\"\u001b[39m\u001b[38;5;241m.\u001b[39m\n\u001b[1;32m    328\u001b[0m         \u001b[38;5;28mformat\u001b[39m(target_id, \u001b[38;5;124m\"\u001b[39m\u001b[38;5;124m.\u001b[39m\u001b[38;5;124m\"\u001b[39m, name), value)\n\u001b[1;32m    329\u001b[0m \u001b[38;5;28;01melse\u001b[39;00m:\n\u001b[1;32m    330\u001b[0m     \u001b[38;5;28;01mraise\u001b[39;00m Py4JError(\n\u001b[1;32m    331\u001b[0m         \u001b[38;5;124m\"\u001b[39m\u001b[38;5;124mAn error occurred while calling \u001b[39m\u001b[38;5;132;01m{0}\u001b[39;00m\u001b[38;5;132;01m{1}\u001b[39;00m\u001b[38;5;132;01m{2}\u001b[39;00m\u001b[38;5;124m. Trace:\u001b[39m\u001b[38;5;130;01m\\n\u001b[39;00m\u001b[38;5;132;01m{3}\u001b[39;00m\u001b[38;5;130;01m\\n\u001b[39;00m\u001b[38;5;124m\"\u001b[39m\u001b[38;5;241m.\u001b[39m\n\u001b[1;32m    332\u001b[0m         \u001b[38;5;28mformat\u001b[39m(target_id, \u001b[38;5;124m\"\u001b[39m\u001b[38;5;124m.\u001b[39m\u001b[38;5;124m\"\u001b[39m, name, value))\n",
      "\u001b[0;31mPy4JJavaError\u001b[0m: An error occurred while calling o497.showString.\n: org.apache.spark.SparkException: Job 36 cancelled because SparkContext was shut down\n\tat org.apache.spark.scheduler.DAGScheduler.$anonfun$cleanUpAfterSchedulerStop$1(DAGScheduler.scala:1253)\n\tat org.apache.spark.scheduler.DAGScheduler.$anonfun$cleanUpAfterSchedulerStop$1$adapted(DAGScheduler.scala:1251)\n\tat scala.collection.mutable.HashSet.foreach(HashSet.scala:79)\n\tat org.apache.spark.scheduler.DAGScheduler.cleanUpAfterSchedulerStop(DAGScheduler.scala:1251)\n\tat org.apache.spark.scheduler.DAGSchedulerEventProcessLoop.onStop(DAGScheduler.scala:3087)\n\tat org.apache.spark.util.EventLoop.stop(EventLoop.scala:84)\n\tat org.apache.spark.scheduler.DAGScheduler.$anonfun$stop$3(DAGScheduler.scala:2973)\n\tat org.apache.spark.util.Utils$.tryLogNonFatalError(Utils.scala:1375)\n\tat org.apache.spark.scheduler.DAGScheduler.stop(DAGScheduler.scala:2973)\n\tat org.apache.spark.SparkContext.$anonfun$stop$12(SparkContext.scala:2258)\n\tat org.apache.spark.util.Utils$.tryLogNonFatalError(Utils.scala:1375)\n\tat org.apache.spark.SparkContext.stop(SparkContext.scala:2258)\n\tat org.apache.spark.SparkContext.stop(SparkContext.scala:2211)\n\tat org.apache.spark.SparkContext$$anon$3.run(SparkContext.scala:2198)\n"
     ]
    }
   ],
   "source": [
    "left = result.alias(\"left\")\n",
    "right = result.alias(\"right\")\n",
    "\n",
    "similar_games = brp_model\\\n",
    "    .approxSimilarityJoin(\n",
    "        left, right, threshold=0.0, distCol=\"EuclideanDistance\"\n",
    "    )\\\n",
    "    .filter(F.col(\"datasetA.app_id\") < F.col(\"datasetB.app_id\"))\\\n",
    "    \n",
    "similar_games\\\n",
    "    .select(\n",
    "        \"datasetA.app_id\",\n",
    "        \"datasetB.app_id\",\n",
    "        \"EuclideanDistance\"\n",
    "    ).show()\n",
    "\n"
   ]
  },
  {
   "cell_type": "code",
   "execution_count": 22,
   "metadata": {},
   "outputs": [
    {
     "name": "stdout",
     "output_type": "stream",
     "text": [
      "root\n",
      " |-- app_id: long (nullable = true)\n",
      " |-- name: string (nullable = true)\n",
      " |-- release_date: date (nullable = true)\n",
      " |-- required_age: integer (nullable = true)\n",
      " |-- price: float (nullable = true)\n",
      " |-- dlc_count: integer (nullable = true)\n",
      " |-- detailed_description: string (nullable = true)\n",
      " |-- about_the_game: string (nullable = true)\n",
      " |-- short_description: string (nullable = true)\n",
      " |-- reviews: string (nullable = true)\n",
      " |-- header_image: string (nullable = true)\n",
      " |-- website: string (nullable = true)\n",
      " |-- support_url: string (nullable = true)\n",
      " |-- support_email: string (nullable = true)\n",
      " |-- windows: boolean (nullable = true)\n",
      " |-- mac: boolean (nullable = true)\n",
      " |-- linux: boolean (nullable = true)\n",
      " |-- metacritic_score: integer (nullable = true)\n",
      " |-- metacritic_url: string (nullable = true)\n",
      " |-- achievements: integer (nullable = true)\n",
      " |-- recommendations: integer (nullable = true)\n",
      " |-- notes: string (nullable = true)\n",
      " |-- supported_languages: array (nullable = true)\n",
      " |    |-- element: string (containsNull = true)\n",
      " |-- full_audio_languages: array (nullable = true)\n",
      " |    |-- element: string (containsNull = true)\n",
      " |-- packages: array (nullable = true)\n",
      " |    |-- element: string (containsNull = true)\n",
      " |-- developers: array (nullable = true)\n",
      " |    |-- element: string (containsNull = true)\n",
      " |-- publishers: array (nullable = true)\n",
      " |    |-- element: string (containsNull = true)\n",
      " |-- categories: array (nullable = true)\n",
      " |    |-- element: string (containsNull = true)\n",
      " |-- genres: array (nullable = true)\n",
      " |    |-- element: string (containsNull = true)\n",
      " |-- screenshots: array (nullable = true)\n",
      " |    |-- element: string (containsNull = true)\n",
      " |-- movies: array (nullable = true)\n",
      " |    |-- element: string (containsNull = true)\n",
      " |-- user_score: float (nullable = true)\n",
      " |-- score_rank: integer (nullable = true)\n",
      " |-- positive: integer (nullable = true)\n",
      " |-- negative: integer (nullable = true)\n",
      " |-- estimated_owners: string (nullable = true)\n",
      " |-- average_playtime_forever: integer (nullable = true)\n",
      " |-- average_playtime_2weeks: integer (nullable = true)\n",
      " |-- median_playtime_forever: integer (nullable = true)\n",
      " |-- median_playtime_2weeks: integer (nullable = true)\n",
      " |-- peak_ccu: integer (nullable = true)\n",
      " |-- tags: map (nullable = true)\n",
      " |    |-- key: string\n",
      " |    |-- value: integer (valueContainsNull = true)\n",
      " |-- pct_pos_total: integer (nullable = true)\n",
      " |-- num_reviews_total: integer (nullable = true)\n",
      " |-- pct_pos_recent: integer (nullable = true)\n",
      " |-- num_reviews_recent: integer (nullable = true)\n",
      "\n"
     ]
    }
   ],
   "source": [
    "games.printSchema()"
   ]
  },
  {
   "cell_type": "code",
   "execution_count": 65,
   "metadata": {},
   "outputs": [],
   "source": [
    "\n",
    "# Select relevant columns for content-based filtering\n",
    "game_data = games\\\n",
    "    .where(games.detailed_description.isNotNull())\\\n",
    "    .select(\"app_id\", \"name\", \"genres\", \"detailed_description\")\n",
    "\n",
    "# Preprocessing pipeline\n",
    "# Tokenize the detailed description\n",
    "tokenizer = Tokenizer(inputCol=\"detailed_description\", outputCol=\"tokens\")\n",
    "\n",
    "# Remove stopwords\n",
    "stopwords_remover = StopWordsRemover(inputCol=\"tokens\", outputCol=\"filtered_tokens\")\n",
    "\n",
    "# Apply TF (Term Frequency)\n",
    "hashing_tf = HashingTF(inputCol=\"filtered_tokens\", outputCol=\"raw_features\", numFeatures=20)\n",
    "\n",
    "# Apply IDF (Inverse Document Frequency)\n",
    "idf = IDF(inputCol=\"raw_features\", outputCol=\"features\")\n",
    "\n",
    "# Locality Sensitive Hashing (LSH) for similarity search\n",
    "minhash_lsh = MinHashLSH(inputCol=\"features\", outputCol=\"hashes\", numHashTables=5)\n",
    "\n",
    "# Build the pipeline\n",
    "pipeline = Pipeline(stages=[\n",
    "    tokenizer,\n",
    "    stopwords_remover,\n",
    "    hashing_tf,\n",
    "    idf,\n",
    "    minhash_lsh\n",
    "])\n"
   ]
  },
  {
   "cell_type": "code",
   "execution_count": 66,
   "metadata": {},
   "outputs": [
    {
     "name": "stderr",
     "output_type": "stream",
     "text": [
      "                                                                                \r"
     ]
    }
   ],
   "source": [
    "# Fit the pipeline to the data\n",
    "model = pipeline.fit(game_data)\n",
    "processed_games_df = model.transform(game_data)"
   ]
  },
  {
   "cell_type": "code",
   "execution_count": 67,
   "metadata": {},
   "outputs": [
    {
     "name": "stdout",
     "output_type": "stream",
     "text": [
      "+------+------------------------------+--------+------------------------------------------------------------------------------------------------------------------------------------------------------------------------------------------------------------------------------------------------------------------------------------------------------------+-------------------------------------------------------------------------------------------------------------------------------------------------------------------------------------------------------------------------------------------------------------------------------------------------------------------------------------------------------+-------------------------------------------------------------------------------------------------------------------------------------------------------------------------------------------------------------------------------------------------------------------------------------------------+---------------------------------------------------------------------------------------------------------------+-------------------------------------------------------------------------------------------------------------------------------------------------------------------------------------------------------------------------------------------------------------------------------------------------------------------------------------------------------------------------------+------------------------------------------------------------------------------+\n",
      "|app_id|name                          |genres  |detailed_description                                                                                                                                                                                                                                                                                        |tokens                                                                                                                                                                                                                                                                                                                                                 |filtered_tokens                                                                                                                                                                                                                                                                                  |raw_features                                                                                                   |features                                                                                                                                                                                                                                                                                                                                                                       |hashes                                                                        |\n",
      "+------+------------------------------+--------+------------------------------------------------------------------------------------------------------------------------------------------------------------------------------------------------------------------------------------------------------------------------------------------------------------+-------------------------------------------------------------------------------------------------------------------------------------------------------------------------------------------------------------------------------------------------------------------------------------------------------------------------------------------------------+-------------------------------------------------------------------------------------------------------------------------------------------------------------------------------------------------------------------------------------------------------------------------------------------------+---------------------------------------------------------------------------------------------------------------+-------------------------------------------------------------------------------------------------------------------------------------------------------------------------------------------------------------------------------------------------------------------------------------------------------------------------------------------------------------------------------+------------------------------------------------------------------------------+\n",
      "|80    |Counter-Strike: Condition Zero|[Action]|With its extensive Tour of Duty campaign, a near-limitless number of skirmish modes, updates and new content for Counter-Strike's award-winning multiplayer game play, plus over 12 bonus single player missions, Counter-Strike: Condition Zero is a tremendous offering of single and multiplayer content.|[with, its, extensive, tour, of, duty, campaign,, a, near-limitless, number, of, skirmish, modes,, updates, and, new, content, for, counter-strike's, award-winning, multiplayer, game, play,, plus, over, 12, bonus, single, player, missions,, counter-strike:, condition, zero, is, a, tremendous, offering, of, single, and, multiplayer, content.]|[extensive, tour, duty, campaign,, near-limitless, number, skirmish, modes,, updates, new, content, counter-strike's, award-winning, multiplayer, game, play,, plus, 12, bonus, single, player, missions,, counter-strike:, condition, zero, tremendous, offering, single, multiplayer, content.]|(20,[0,1,3,4,5,6,7,8,9,11,12,13,15,17,18,19],[1.0,1.0,3.0,1.0,3.0,3.0,3.0,1.0,3.0,1.0,1.0,2.0,1.0,1.0,4.0,1.0])|(20,[0,1,3,4,5,6,7,8,9,11,12,13,15,17,18,19],[0.04951634145330176,0.07373485689962019,0.12837733914943392,0.06256556821343476,0.13961309622828663,0.13709172400186945,0.15792828670193695,0.044331437584334034,0.1507399359520118,0.05216307932042752,0.03846346229680039,0.04660927494638679,0.01910786025766714,0.05428552497152358,0.21284442211447355,0.05935717271320815])|[[1.29736072E8], [1.48054425E8], [8.0499486E7], [3.3156578E7], [1.07592271E8]]|\n",
      "+------+------------------------------+--------+------------------------------------------------------------------------------------------------------------------------------------------------------------------------------------------------------------------------------------------------------------------------------------------------------------+-------------------------------------------------------------------------------------------------------------------------------------------------------------------------------------------------------------------------------------------------------------------------------------------------------------------------------------------------------+-------------------------------------------------------------------------------------------------------------------------------------------------------------------------------------------------------------------------------------------------------------------------------------------------+---------------------------------------------------------------------------------------------------------------+-------------------------------------------------------------------------------------------------------------------------------------------------------------------------------------------------------------------------------------------------------------------------------------------------------------------------------------------------------------------------------+------------------------------------------------------------------------------+\n",
      "\n"
     ]
    },
    {
     "name": "stderr",
     "output_type": "stream",
     "text": [
      "[Stage 549:>                                                        (0 + 8) / 8]\r"
     ]
    },
    {
     "name": "stdout",
     "output_type": "stream",
     "text": [
      "+-------+------------------------------+-------------------------------------------------------------------+--------------------------------------------------------------------------------------------------------------------------------------------------------------------------------------------------------------------------------------------------------------------------------------------------------------------------------------------------------------------------------------------------------------------------------------------------------------------------------------------------------------------------------------------------------------------------------------------------------------------------------------------------------------------------------------------------------------+-------------------------------------------------------------------------------------------------------------------------------------------------------------------------------------------------------------------------------------------------------------------------------------------------------------------------------------------------------------------------------------------------------------------------------------------------------------------------------------------------------------------------------------------------------------------------------------------------------------------------------------------------------------------------------------------------------------------------------------------------------------------------------------------------------------------------------------------------+---------------------------------------------------------------------------------------------------------------------------------------------------------------------------------------------------------------------------------------------------------------------------------------------------------------------------------------------------------------------------------------------------------------------------------------------------------------------------------------------------------------------------+----------------------------------------------------------------------------------------------------------------------+-------------------------------------------------------------------------------------------------------------------------------------------------------------------------------------------------------------------------------------------------------------------------------------------------------------------------------------------------------------------------------------------------------+------------------------------------------------------------------------------+-------------------+\n",
      "|app_id |name                          |genres                                                             |detailed_description                                                                                                                                                                                                                                                                                                                                                                                                                                                                                                                                                                                                                                                                                          |tokens                                                                                                                                                                                                                                                                                                                                                                                                                                                                                                                                                                                                                                                                                                                                                                                                                                           |filtered_tokens                                                                                                                                                                                                                                                                                                                                                                                                                                                                                                            |raw_features                                                                                                          |features                                                                                                                                                                                                                                                                                                                                                                                               |hashes                                                                        |JaccardDistance    |\n",
      "+-------+------------------------------+-------------------------------------------------------------------+--------------------------------------------------------------------------------------------------------------------------------------------------------------------------------------------------------------------------------------------------------------------------------------------------------------------------------------------------------------------------------------------------------------------------------------------------------------------------------------------------------------------------------------------------------------------------------------------------------------------------------------------------------------------------------------------------------------+-------------------------------------------------------------------------------------------------------------------------------------------------------------------------------------------------------------------------------------------------------------------------------------------------------------------------------------------------------------------------------------------------------------------------------------------------------------------------------------------------------------------------------------------------------------------------------------------------------------------------------------------------------------------------------------------------------------------------------------------------------------------------------------------------------------------------------------------------+---------------------------------------------------------------------------------------------------------------------------------------------------------------------------------------------------------------------------------------------------------------------------------------------------------------------------------------------------------------------------------------------------------------------------------------------------------------------------------------------------------------------------+----------------------------------------------------------------------------------------------------------------------+-------------------------------------------------------------------------------------------------------------------------------------------------------------------------------------------------------------------------------------------------------------------------------------------------------------------------------------------------------------------------------------------------------+------------------------------------------------------------------------------+-------------------+\n",
      "|100    |Counter-Strike: Condition Zero|[Action]                                                           |With its extensive Tour of Duty campaign, a near-limitless number of skirmish modes, updates and new content for Counter-Strike's award-winning multiplayer game play, plus over 12 bonus single player missions, Counter-Strike: Condition Zero is a tremendous offering of single and multiplayer content.                                                                                                                                                                                                                                                                                                                                                                                                  |[with, its, extensive, tour, of, duty, campaign,, a, near-limitless, number, of, skirmish, modes,, updates, and, new, content, for, counter-strike's, award-winning, multiplayer, game, play,, plus, over, 12, bonus, single, player, missions,, counter-strike:, condition, zero, is, a, tremendous, offering, of, single, and, multiplayer, content.]                                                                                                                                                                                                                                                                                                                                                                                                                                                                                          |[extensive, tour, duty, campaign,, near-limitless, number, skirmish, modes,, updates, new, content, counter-strike's, award-winning, multiplayer, game, play,, plus, 12, bonus, single, player, missions,, counter-strike:, condition, zero, tremendous, offering, single, multiplayer, content.]                                                                                                                                                                                                                          |(20,[0,1,3,4,5,6,7,8,9,11,12,13,15,17,18,19],[1.0,1.0,3.0,1.0,3.0,3.0,3.0,1.0,3.0,1.0,1.0,2.0,1.0,1.0,4.0,1.0])       |(20,[0,1,3,4,5,6,7,8,9,11,12,13,15,17,18,19],[0.04951634145330176,0.07373485689962019,0.12837733914943392,0.06256556821343476,0.13961309622828663,0.13709172400186945,0.15792828670193695,0.044331437584334034,0.1507399359520118,0.05216307932042752,0.03846346229680039,0.04660927494638679,0.01910786025766714,0.05428552497152358,0.21284442211447355,0.05935717271320815])                        |[[1.29736072E8], [1.48054425E8], [8.0499486E7], [3.3156578E7], [1.07592271E8]]|0.0                |\n",
      "|80     |Counter-Strike: Condition Zero|[Action]                                                           |With its extensive Tour of Duty campaign, a near-limitless number of skirmish modes, updates and new content for Counter-Strike's award-winning multiplayer game play, plus over 12 bonus single player missions, Counter-Strike: Condition Zero is a tremendous offering of single and multiplayer content.                                                                                                                                                                                                                                                                                                                                                                                                  |[with, its, extensive, tour, of, duty, campaign,, a, near-limitless, number, of, skirmish, modes,, updates, and, new, content, for, counter-strike's, award-winning, multiplayer, game, play,, plus, over, 12, bonus, single, player, missions,, counter-strike:, condition, zero, is, a, tremendous, offering, of, single, and, multiplayer, content.]                                                                                                                                                                                                                                                                                                                                                                                                                                                                                          |[extensive, tour, duty, campaign,, near-limitless, number, skirmish, modes,, updates, new, content, counter-strike's, award-winning, multiplayer, game, play,, plus, 12, bonus, single, player, missions,, counter-strike:, condition, zero, tremendous, offering, single, multiplayer, content.]                                                                                                                                                                                                                          |(20,[0,1,3,4,5,6,7,8,9,11,12,13,15,17,18,19],[1.0,1.0,3.0,1.0,3.0,3.0,3.0,1.0,3.0,1.0,1.0,2.0,1.0,1.0,4.0,1.0])       |(20,[0,1,3,4,5,6,7,8,9,11,12,13,15,17,18,19],[0.04951634145330176,0.07373485689962019,0.12837733914943392,0.06256556821343476,0.13961309622828663,0.13709172400186945,0.15792828670193695,0.044331437584334034,0.1507399359520118,0.05216307932042752,0.03846346229680039,0.04660927494638679,0.01910786025766714,0.05428552497152358,0.21284442211447355,0.05935717271320815])                        |[[1.29736072E8], [1.48054425E8], [8.0499486E7], [3.3156578E7], [1.07592271E8]]|0.0                |\n",
      "|1001690|Mars Flight VR                |[Racing, Simulation]                                               |Mars Flight VR is a helicopter simulator that lets you explore Jezero Crater, the landing site of Perseverance rover on mars. Take control of 'Ingenuity', the JPL Mars Helicopter Scout, a real helicopter designed to fly in the thin martian atmosphere. The game includes races and photography missions with Steam leaderboards. This is a seated VR experience which requires a gamepad to play.                                                                                                                                                                                                                                                                                                        |[mars, flight, vr, is, a, helicopter, simulator, that, lets, you, explore, jezero, crater,, the, landing, site, of, perseverance, rover, on, mars., take, control, of, 'ingenuity',, the, jpl, mars, helicopter, scout,, a, real, helicopter, designed, to, fly, in, the, thin, martian, atmosphere., the, game, includes, races, and, photography, missions, with, steam, leaderboards., this, is, a, seated, vr, experience, which, requires, a, gamepad, to, play.]                                                                                                                                                                                                                                                                                                                                                                           |[mars, flight, vr, helicopter, simulator, lets, explore, jezero, crater,, landing, site, perseverance, rover, mars., take, control, 'ingenuity',, jpl, mars, helicopter, scout,, real, helicopter, designed, fly, thin, martian, atmosphere., game, includes, races, photography, missions, steam, leaderboards., seated, vr, experience, requires, gamepad, play.]                                                                                                                                                        |(20,[0,1,3,4,5,6,7,8,9,11,12,13,15,17,18,19],[2.0,3.0,4.0,1.0,2.0,1.0,1.0,2.0,2.0,3.0,2.0,3.0,3.0,7.0,4.0,1.0])       |(20,[0,1,3,4,5,6,7,8,9,11,12,13,15,17,18,19],[0.09903268290660353,0.22120457069886057,0.17116978553257856,0.06256556821343476,0.09307539748552442,0.04569724133395648,0.052642762233978985,0.08866287516866807,0.10049329063467452,0.15648923796128256,0.07692692459360077,0.06991391241958018,0.05732358077300141,0.37999867480066507,0.21284442211447355,0.05935717271320815])                       |[[1.29736072E8], [1.48054425E8], [8.0499486E7], [3.3156578E7], [1.07592271E8]]|0.0                |\n",
      "|1441740|Frick Frack                   |[Adventure, Casual, Free to Play, Indie, RPG, Simulation, Strategy]|Frick Frack is a puzzle simulation game about hurting what you love the most. You play as a miner digging wells for a fracking company. You must find the perfect work-life balance but the work you do directly affects the world around you. Good luck. Frack - Dig tunnels, extract oil, get money Spend - Use your fracking money to buy essentials, or more Repeat. Credits Weston Bell-Geddes | Director, Developer, Designer, Engineer, Writer Erica Wang | Artist Sheehan Ahmed | Engineer Doug Walters | Sound Designer, Composer                                                                                                                                                                    |[frick, frack, is, a, puzzle, simulation, game, about, hurting, what, you, love, the, most., you, play, as, a, miner, digging, wells, for, a, fracking, company., you, must, find, the, perfect, work-life, balance, but, the, work, you, do, directly, affects, the, world, around, you., good, luck., frack, -, dig, tunnels,, extract, oil,, get, money, spend, -, use, your, fracking, money, to, buy, essentials,, or, more, repeat., credits, weston, bell-geddes, |, director,, developer,, designer,, engineer,, writer, erica, wang, |, artist, sheehan, ahmed, |, engineer, doug, walters, |, sound, designer,, composer]                                                                                                                                                                                                              |[frick, frack, puzzle, simulation, game, hurting, love, most., play, miner, digging, wells, fracking, company., must, find, perfect, work-life, balance, work, directly, affects, world, around, you., good, luck., frack, -, dig, tunnels,, extract, oil,, get, money, spend, -, use, fracking, money, buy, essentials,, repeat., credits, weston, bell-geddes, |, director,, developer,, designer,, engineer,, writer, erica, wang, |, artist, sheehan, ahmed, |, engineer, doug, walters, |, sound, designer,, composer]|(20,[0,1,3,4,5,6,7,8,9,10,11,12,13,15,17,18,19],[4.0,1.0,4.0,2.0,8.0,5.0,2.0,6.0,2.0,2.0,3.0,4.0,5.0,1.0,9.0,2.0,6.0])|(20,[0,1,3,4,5,6,7,8,9,10,11,12,13,15,17,18,19],[0.19806536581320705,0.07373485689962019,0.17116978553257856,0.12513113642686952,0.37230158994209767,0.2284862066697824,0.10528552446795797,0.2659886255060042,0.10049329063467452,0.08808695729558469,0.15648923796128256,0.15385384918720155,0.11652318736596697,0.01910786025766714,0.4885697247437122,0.10642221105723677,0.3561430362792489])     |[[1.29736072E8], [1.48054425E8], [8.0499486E7], [3.3156578E7], [1.07592271E8]]|0.05882352941176472|\n",
      "|1515740|Super Sports Blast            |[Casual, Indie, Sports]                                            |Get ready for kick-off and play some soccer, own the Tennis court and spike your opponent in the Volley field. Each sport features its own in-depth modes with various tournaments to conquer! Create your own character and grind your way up to be the champion in three of the world's most popular sports.                                                                                                                                                                                                                                                                                                                                                                                                |[get, ready, for, kick-off, and, play, some, soccer,, own, the, tennis, court, and, spike, your, opponent, in, the, volley, field., each, sport, features, its, own, in-depth, modes, with, various, tournaments, to, conquer!, create, your, own, character, and, grind, your, way, up, to, be, the, champion, in, three, of, the, world's, most, popular, sports.]                                                                                                                                                                                                                                                                                                                                                                                                                                                                             |[get, ready, kick-off, play, soccer,, tennis, court, spike, opponent, volley, field., sport, features, in-depth, modes, various, tournaments, conquer!, create, character, grind, way, champion, three, world's, popular, sports.]                                                                                                                                                                                                                                                                                         |(20,[0,1,3,4,5,6,7,8,9,11,12,13,15,16,17,18,19],[1.0,2.0,1.0,1.0,3.0,3.0,2.0,2.0,1.0,2.0,1.0,1.0,1.0,2.0,2.0,1.0,1.0])|(20,[0,1,3,4,5,6,7,8,9,11,12,13,15,16,17,18,19],[0.04951634145330176,0.14746971379924037,0.04279244638314464,0.06256556821343476,0.13961309622828663,0.13709172400186945,0.10528552446795797,0.08866287516866807,0.05024664531733726,0.10432615864085504,0.03846346229680039,0.023304637473193394,0.01910786025766714,0.10753426294794251,0.10857104994304716,0.05321110552861839,0.05935717271320815])|[[1.29736072E8], [1.48054425E8], [8.0499486E7], [3.3156578E7], [1.07592271E8]]|0.05882352941176472|\n",
      "|682730 |Hearing                       |[Casual, Indie]                                                    |This is a short-time walking simulator with an open world that you can go through with your eyes closed. In the end, here you will need to rely only on your hearing. You woke up in the middle of the white, lighted room. What happened? How did I get here? These are the questions that find the main character of this game. 'If you want to know something, just ask about it,' thought the protagonist. But instead of words from the mouth only air comes out. Suddenly, up to the hero's ears comes a voice from above. It is he who will answer all the questions that are tormenting the hero, and will also show, in a clear example, how a normal hearing test can develop into a real challenge.|[this, is, a, short-time, walking, simulator, with, an, open, world, that, you, can, go, through, with, your, eyes, closed., in, the, end,, here, you, will, need, to, rely, only, on, your, hearing., you, woke, up, in, the, middle, of, the, white,, lighted, room., what, happened?, how, did, i, get, here?, these, are, the, questions, that, find, the, main, character, of, this, game., 'if, you, want, to, know, something,, just, ask, about, it,', thought, the, protagonist., but, instead, of, words, from, the, mouth, only, air, comes, out., suddenly,, up, to, the, hero's, ears, comes, a, voice, from, above., it, is, he, who, will, answer, all, the, questions, that, are, tormenting, the, hero,, and, will, also, show,, in, a, clear, example,, how, a, normal, hearing, test, can, develop, into, a, real, challenge.]|[short-time, walking, simulator, open, world, go, eyes, closed., end,, need, rely, hearing., woke, middle, white,, lighted, room., happened?, get, here?, questions, find, main, character, game., 'if, want, know, something,, ask, it,', thought, protagonist., instead, words, mouth, air, comes, out., suddenly,, hero's, ears, comes, voice, above., answer, questions, tormenting, hero,, also, show,, clear, example,, normal, hearing, test, develop, real, challenge.]                                            |(20,[0,1,3,4,5,6,7,8,9,10,11,12,13,15,17,18,19],[4.0,2.0,5.0,2.0,3.0,7.0,5.0,3.0,2.0,2.0,6.0,5.0,2.0,2.0,4.0,3.0,2.0])|(20,[0,1,3,4,5,6,7,8,9,10,11,12,13,15,17,18,19],[0.19806536581320705,0.14746971379924037,0.2139622319157232,0.12513113642686952,0.13961309622828663,0.31988068933769537,0.26321381116989495,0.1329943127530021,0.10049329063467452,0.08808695729558469,0.3129784759225651,0.19231731148400194,0.04660927494638679,0.03821572051533428,0.21714209988609431,0.15963331658585517,0.1187143454264163])     |[[1.29736072E8], [1.48054425E8], [8.0499486E7], [3.3156578E7], [1.07592271E8]]|0.05882352941176472|\n",
      "|720470 |Caveman Alive                 |[Adventure, Casual, Indie, Simulation]                             |Caveman Alive - is a very simple platformer with elements of survival. Imagine that you were the last of your tribe. Everywhere are many enemies, thirsty for your death, and the main problem is hunger. One of your main tasks is picking up pieces of meat. After you have collected all the pieces of meat on a level the door will open , passing through which, you will be taken to the next level. Be careful on each level, a variety of traps is waiting for you. Act prudently and plan each step, cheat on monsters and then it won't be difficult to easily overcome all the surprises that have been prepared for this game.                                                                    |[caveman, alive, -, is, a, very, simple, platformer, with, elements, of, survival., imagine, that, you, were, the, last, of, your, tribe., everywhere, are, many, enemies,, thirsty, for, your, death,, and, the, main, problem, is, hunger., one, of, your, main, tasks, is, picking, up, pieces, of, meat., after, you, have, collected, all, the, pieces, of, meat, on, a, level, the, door, will, open, ,, passing, through, which,, you, will, be, taken, to, the, next, level., be, careful, on, each, level,, a, variety, of, traps, is, waiting, for, you., act, prudently, and, plan, each, step,, cheat, on, monsters, and, then, it, won't, be, difficult, to, easily, overcome, all, the, surprises, that, have, been, prepared, for, this, game.]                                                                                   |[caveman, alive, -, simple, platformer, elements, survival., imagine, last, tribe., everywhere, many, enemies,, thirsty, death,, main, problem, hunger., one, main, tasks, picking, pieces, meat., collected, pieces, meat, level, door, open, ,, passing, which,, taken, next, level., careful, level,, variety, traps, waiting, you., act, prudently, plan, step,, cheat, monsters, difficult, easily, overcome, surprises, prepared, game.]                                                                             |(20,[0,1,3,4,5,6,7,8,9,11,12,13,15,16,17,18,19],[1.0,2.0,4.0,6.0,1.0,1.0,6.0,7.0,2.0,2.0,2.0,3.0,2.0,6.0,3.0,2.0,4.0])|(20,[0,1,3,4,5,6,7,8,9,11,12,13,15,16,17,18,19],[0.04951634145330176,0.14746971379924037,0.17116978553257856,0.37539340928060855,0.04653769874276221,0.04569724133395648,0.3158565734038739,0.3103200630903382,0.10049329063467452,0.10432615864085504,0.07692692459360077,0.06991391241958018,0.03821572051533428,0.32260278884382754,0.16285657491457073,0.10642221105723677,0.2374286908528326])    |[[1.29736072E8], [1.48054425E8], [8.0499486E7], [3.3156578E7], [1.07592271E8]]|0.05882352941176472|\n",
      "|1424250|Puzzzle                       |[Casual, Free to Play, Indie, Simulation]                          |Puzzzle Development Puzzzle is beginning Phase One of development! This will continue to the end of 2021, and expect some HUGE changes to the game. About the Game Hi! This is Puzzzle , a puzzle platformer where you control Rectangle , who aims to escape the cavern! If you're reading this now, this game is in some pretty intensive development, so keep that in mind - this is more or less an early access game. That's enough from me; I may or may not create a Youtube channel to document this process, but that will depend on how I feel later. -Stephen Walton, 'dev'                                                                                                                        |[puzzzle, development, puzzzle, is, beginning, phase, one, of, development!, this, will, continue, to, the, end, of, 2021,, and, expect, some, huge, changes, to, the, game., about, the, game, hi!, this, is, puzzzle, ,, a, puzzle, platformer, where, you, control, rectangle, ,, who, aims, to, escape, the, cavern!, if, you're, reading, this, now,, this, game, is, in, some, pretty, intensive, development,, so, keep, that, in, mind, -, this, is, more, or, less, an, early, access, game., that's, enough, from, me;, i, may, or, may, not, create, a, youtube, channel, to, document, this, process,, but, that, will, depend, on, how, i, feel, later., -stephen, walton,, 'dev']                                                                                                                                                  |[puzzzle, development, puzzzle, beginning, phase, one, development!, continue, end, 2021,, expect, huge, changes, game., game, hi!, puzzzle, ,, puzzle, platformer, control, rectangle, ,, aims, escape, cavern!, reading, now,, game, pretty, intensive, development,, keep, mind, -, less, early, access, game., enough, me;, may, may, create, youtube, channel, document, process,, depend, feel, later., -stephen, walton,, 'dev']                                                                                    |(20,[0,1,3,4,5,6,7,8,9,11,12,13,14,15,17,18,19],[4.0,2.0,2.0,5.0,1.0,1.0,3.0,3.0,1.0,5.0,3.0,3.0,1.0,7.0,2.0,4.0,7.0])|(20,[0,1,3,4,5,6,7,8,9,11,12,13,14,15,17,18,19],[0.19806536581320705,0.14746971379924037,0.08558489276628928,0.31282784106717376,0.04653769874276221,0.04569724133395648,0.15792828670193695,0.1329943127530021,0.05024664531733726,0.2608153966021376,0.11539038689040115,0.06991391241958018,0.05486745725609028,0.13375502180366997,0.10857104994304716,0.21284442211447355,0.41550020899245704])   |[[1.29736072E8], [1.48054425E8], [3.1780154E7], [3.3156578E7], [1.07592271E8]]|0.05882352941176472|\n",
      "|387840 |Alpha Runner                  |[Adventure, Casual, Indie]                                         |Experience a challenging and addicting platform game, that never ends (until you die). Alpha Runner keeps players on their toe's by creating different scenerio's so the game is not quite as easy as it looks. Alpha Runner has both Global and Friends Only leaderboards which allow you to be the very best between friends and others. With Alpha Runner's randomly generated worlds, you cannot plan how it will play out. Alpha Runner is a must play for anyone who wants an extreme and competitve challenge. Alpha Runner will have frequent updates which contain new obstacles and game-modes to make the game even more enjoyable.                                                                |[experience, a, challenging, and, addicting, platform, game,, that, never, ends, (until, you, die)., alpha, runner, keeps, players, on, their, toe's, by, creating, different, scenerio's, so, the, game, is, not, quite, as, easy, as, it, looks., alpha, runner, has, both, global, and, friends, only, leaderboards, which, allow, you, to, be, the, very, best, between, friends, and, others., with, alpha, runner's, randomly, generated, worlds,, you, cannot, plan, how, it, will, play, out., alpha, runner, is, a, must, play, for, anyone, who, wants, an, extreme, and, competitve, challenge., alpha, runner, will, have, frequent, updates, which, contain, new, obstacles, and, game-modes, to, make, the, game, even, more, enjoyable.]                                                                                          |[experience, challenging, addicting, platform, game,, never, ends, (until, die)., alpha, runner, keeps, players, toe's, creating, different, scenerio's, game, quite, easy, looks., alpha, runner, global, friends, leaderboards, allow, best, friends, others., alpha, runner's, randomly, generated, worlds,, plan, play, out., alpha, runner, must, play, anyone, wants, extreme, competitve, challenge., alpha, runner, frequent, updates, contain, new, obstacles, game-modes, make, game, even, enjoyable.]          |(20,[0,1,3,4,5,6,7,8,9,11,12,13,15,16,17,18,19],[4.0,6.0,5.0,1.0,2.0,2.0,3.0,1.0,4.0,1.0,4.0,5.0,5.0,7.0,2.0,3.0,4.0])|(20,[0,1,3,4,5,6,7,8,9,11,12,13,15,16,17,18,19],[0.19806536581320705,0.44240914139772114,0.2139622319157232,0.06256556821343476,0.09307539748552442,0.09139448266791296,0.15792828670193695,0.044331437584334034,0.20098658126934904,0.05216307932042752,0.15385384918720155,0.11652318736596697,0.0955393012883357,0.37636992031779876,0.10857104994304716,0.15963331658585517,0.2374286908528326])   |[[1.29736072E8], [1.48054425E8], [8.0499486E7], [3.3156578E7], [1.07592271E8]]|0.05882352941176472|\n",
      "|1508490|Commie Killer 2069            |[Action, Free to Play, Indie]                                      |Your mission is to kill the communistic overlord that has taken over the United States at a forward operating base in the arctic, the year is 2069, and it's up to you. You are the Penalizer America's last hope to kill the Communist horde and their leader. Utilizing your bad ass plasma gun you will cut down all that would stand between you and the salvation of American freedom. Features: - One kick ass plasma gun. - Kill all the Communists you desire. - Save America, and the world too......... Its up to you, patriot. Will serve or will you die?                                                                                                                                         |[your, mission, is, to, kill, the, communistic, overlord, that, has, taken, over, the, united, states, at, a, forward, operating, base, in, the, arctic,, the, year, is, 2069,, and, it's, up, to, you., you, are, the, penalizer, america's, last, hope, to, kill, the, communist, horde, and, their, leader., utilizing, your, bad, ass, plasma, gun, you, will, cut, down, all, that, would, stand, between, you, and, the, salvation, of, american, freedom., features:, -, one, kick, ass, plasma, gun., -, kill, all, the, communists, you, desire., -, save, america,, and, the, world, too........., its, up, to, you,, patriot., will, serve, or, will, you, die?]                                                                                                                                                                      |[mission, kill, communistic, overlord, taken, united, states, forward, operating, base, arctic,, year, 2069,, you., penalizer, america's, last, hope, kill, communist, horde, leader., utilizing, bad, ass, plasma, gun, cut, stand, salvation, american, freedom., features:, -, one, kick, ass, plasma, gun., -, kill, communists, desire., -, save, america,, world, too........., you,, patriot., serve, die?]                                                                                                         |(20,[0,1,3,4,5,6,7,8,9,11,12,13,15,16,17,18,19],[3.0,2.0,5.0,4.0,2.0,7.0,1.0,2.0,2.0,1.0,6.0,2.0,3.0,3.0,2.0,3.0,4.0])|(20,[0,1,3,4,5,6,7,8,9,11,12,13,15,16,17,18,19],[0.1485490243599053,0.14746971379924037,0.2139622319157232,0.25026227285373903,0.09307539748552442,0.31988068933769537,0.052642762233978985,0.08866287516866807,0.10049329063467452,0.05216307932042752,0.2307807737808023,0.04660927494638679,0.05732358077300141,0.16130139442191377,0.10857104994304716,0.15963331658585517,0.2374286908528326])    |[[1.29736072E8], [1.48054425E8], [8.0499486E7], [3.3156578E7], [1.07592271E8]]|0.05882352941176472|\n",
      "+-------+------------------------------+-------------------------------------------------------------------+--------------------------------------------------------------------------------------------------------------------------------------------------------------------------------------------------------------------------------------------------------------------------------------------------------------------------------------------------------------------------------------------------------------------------------------------------------------------------------------------------------------------------------------------------------------------------------------------------------------------------------------------------------------------------------------------------------------+-------------------------------------------------------------------------------------------------------------------------------------------------------------------------------------------------------------------------------------------------------------------------------------------------------------------------------------------------------------------------------------------------------------------------------------------------------------------------------------------------------------------------------------------------------------------------------------------------------------------------------------------------------------------------------------------------------------------------------------------------------------------------------------------------------------------------------------------------+---------------------------------------------------------------------------------------------------------------------------------------------------------------------------------------------------------------------------------------------------------------------------------------------------------------------------------------------------------------------------------------------------------------------------------------------------------------------------------------------------------------------------+----------------------------------------------------------------------------------------------------------------------+-------------------------------------------------------------------------------------------------------------------------------------------------------------------------------------------------------------------------------------------------------------------------------------------------------------------------------------------------------------------------------------------------------+------------------------------------------------------------------------------+-------------------+\n",
      "\n"
     ]
    },
    {
     "name": "stderr",
     "output_type": "stream",
     "text": [
      "                                                                                \r"
     ]
    }
   ],
   "source": [
    "# Show the processed data\n",
    "# processed_games_df.select(\"app_id\", \"name\", \"hashes\").show(truncate=False)\n",
    "\n",
    "# Example: Finding similar games based on detailed description\n",
    "# Choose a game to find similar ones\n",
    "sample_game = processed_games_df.filter(games.app_id == 80).limit(1)\n",
    "sample_game_features = sample_game.select(\"features\").first()[\"features\"]\n",
    "\n",
    "sample_game.show(truncate=False)\n",
    "\n",
    "mh_model: MinHashLSHModel = model.stages[-1]\n",
    "\n",
    "# Perform the similarity search\n",
    "mh_model.approxNearestNeighbors(\n",
    "    dataset=processed_games_df, key=sample_game_features, numNearestNeighbors=10, distCol=\"JaccardDistance\"\n",
    ")\\\n",
    "    .orderBy(F.asc(\"JaccardDistance\"))\\\n",
    "    .show(truncate=False)\n",
    "\n",
    "# similar_games = mh_model.approxSimilarityJoin(\n",
    "#     processed_games_df, sample_game, 2.0, distCol=\"JaccardDistance\"\n",
    "# )\n",
    "\n",
    "# # Show similar games\n",
    "# similar_games\\\n",
    "#     .select(\"datasetA.name\", \"datasetB.name\", \"JaccardDistance\")\\\n",
    "#     .orderBy(F.asc(\"JaccardDistance\"))\\\n",
    "#     .show(truncate=False)"
   ]
  }
 ],
 "metadata": {
  "kernelspec": {
   "display_name": ".venv",
   "language": "python",
   "name": "python3"
  },
  "language_info": {
   "codemirror_mode": {
    "name": "ipython",
    "version": 3
   },
   "file_extension": ".py",
   "mimetype": "text/x-python",
   "name": "python",
   "nbconvert_exporter": "python",
   "pygments_lexer": "ipython3",
   "version": "3.13.0"
  }
 },
 "nbformat": 4,
 "nbformat_minor": 2
}
