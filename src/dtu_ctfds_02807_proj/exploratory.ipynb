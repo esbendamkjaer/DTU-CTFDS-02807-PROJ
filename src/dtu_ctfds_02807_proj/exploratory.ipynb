{
 "cells": [
  {
   "cell_type": "markdown",
   "metadata": {},
   "source": [
    "## Imports"
   ]
  },
  {
   "cell_type": "code",
   "execution_count": 11,
   "metadata": {},
   "outputs": [],
   "source": [
    "import os\n",
    "import json\n",
    "from pyspark.sql import DataFrame, SparkSession, functions as F\n",
    "from pyspark.conf import SparkConf\n",
    "from pyspark.sql.types import StructType, StructField, StringType, IntegerType, FloatType, BooleanType, LongType, DoubleType, ArrayType, DateType\n",
    "from pyspark import SparkContext\n",
    "from matplotlib import pyplot as plt\n",
    "import seaborn as sns"
   ]
  },
  {
   "cell_type": "markdown",
   "metadata": {},
   "source": [
    "## Create remote Spark session"
   ]
  },
  {
   "cell_type": "code",
   "execution_count": null,
   "metadata": {},
   "outputs": [],
   "source": [
    "# Only execute this cell once.\n",
    "if '_EXECUTED_' in globals():\n",
    "    # check if variable '_EXECUTED_' exists in the global variable namespace\n",
    "    print(\"Already been executed once, not running again!\")\n",
    "else:\n",
    "    print(\"Cell has not been executed before, running...\")\n",
    "\n",
    "    # Two files are automatically read: JobParameters.json for the Spark Cluster job using a temporary spark instance\n",
    "    # and JobParameters.json for the Jupyter Lab job to extract the hostname of the cluster. \n",
    "\n",
    "    MASTER_HOST_NAME = None\n",
    "\n",
    "    # Open the parameters Jupyter Lab app was launched with\n",
    "    with open('/work/JobParameters.json', 'r') as file:\n",
    "        JUPYTER_LAB_JOB_PARAMS = json.load(file)\n",
    "        # from pprint import pprint; pprint(JUPYTER_LAB_JOB_PARAMS) \n",
    "        for resource in JUPYTER_LAB_JOB_PARAMS['request']['resources']:\n",
    "            if 'hostname' in resource.keys():\n",
    "                MASTER_HOST_NAME = resource['hostname']\n",
    "\n",
    "    MASTER_HOST = f\"spark://{MASTER_HOST_NAME}:7077\"\n",
    "\n",
    "    conf = SparkConf().setAll([\n",
    "            (\"spark.app.name\", 'reading_job_params_app'), \n",
    "            (\"spark.master\", MASTER_HOST),\n",
    "        ])\n",
    "    spark = SparkSession.builder.config(conf=conf)\\\n",
    "                                .getOrCreate()\n",
    "\n",
    "    CLUSTER_PARAMETERS_JSON_DF = spark.read.option(\"multiline\",\"true\").json('/work/JobParameters.json')\n",
    "\n",
    "    # Extract cluster info from the specific JobParameters.json\n",
    "    NODES = CLUSTER_PARAMETERS_JSON_DF.select(\"request.replicas\").first()[0]\n",
    "    CPUS_PER_NODE = CLUSTER_PARAMETERS_JSON_DF.select(\"machineType.cpu\").first()[0] - 1\n",
    "    MEM_PER_NODE = CLUSTER_PARAMETERS_JSON_DF.select(\"machineType.memoryInGigs\").first()[0]\n",
    "\n",
    "    CLUSTER_CORES_MAX = CPUS_PER_NODE * NODES\n",
    "    CLUSTER_MEMORY_MAX = MEM_PER_NODE * NODES \n",
    "    \n",
    "    if CPUS_PER_NODE > 1:\n",
    "        EXECUTOR_CORES = CPUS_PER_NODE - 1  # set cores per executor on worker node\n",
    "    else:\n",
    "        EXECUTOR_CORES = CPUS_PER_NODE \n",
    "\n",
    "    EXECUTOR_MEMORY = int(\n",
    "        MEM_PER_NODE / (CPUS_PER_NODE / EXECUTOR_CORES) * 0.5\n",
    "    )  # set executor memory in GB on each worker node\n",
    "\n",
    "    # Make sure there is a dir for spark logs\n",
    "    if not os.path.exists('spark_logs'):\n",
    "        os.mkdir('spark_logs')\n",
    "\n",
    "    conf = SparkConf().setAll(\n",
    "        [\n",
    "            (\"spark.app.name\", 'spark_assignment'), # Change to your liking \n",
    "            (\"spark.sql.caseSensitive\", False), # Optional: Make queries strings sensitive to captialization\n",
    "            (\"spark.master\", MASTER_HOST),\n",
    "            (\"spark.cores.max\", CLUSTER_CORES_MAX),\n",
    "            (\"spark.executor.cores\", EXECUTOR_CORES),\n",
    "            (\"spark.executor.memory\", str(EXECUTOR_MEMORY) + \"g\"),\n",
    "            (\"spark.eventLog.enabled\", True),\n",
    "            (\"spark.eventLog.dir\", \"spark_logs\"),\n",
    "            (\"spark.history.fs.logDirectory\", \"spark_logs\"),\n",
    "            (\"spark.deploy.mode\", \"cluster\"),\n",
    "        ]\n",
    "    )\n",
    "\n",
    "    ## check executor memory, taking into accout 10% of memory overhead (minimum 384 MiB)\n",
    "    CHECK = (CLUSTER_CORES_MAX / EXECUTOR_CORES) * (\n",
    "        EXECUTOR_MEMORY + max(EXECUTOR_MEMORY * 0.10, 0.403)\n",
    "    )\n",
    "\n",
    "    assert (\n",
    "        int(CHECK) <= CLUSTER_MEMORY_MAX\n",
    "    ), \"Executor memory larger than cluster total memory!\"\n",
    "\n",
    "    # Stop previous session that was just for loading cluster params\n",
    "    spark.stop()\n",
    "\n",
    "    # Start new session with above config, that has better resource handling\n",
    "    spark: SparkSession = SparkSession.builder.config(conf=conf)\\\n",
    "                                .getOrCreate()\n",
    "    sc: SparkContext = spark.sparkContext\n",
    "    _EXECUTED_ = True\n",
    "    print(\"Success!\")"
   ]
  },
  {
   "cell_type": "markdown",
   "metadata": {},
   "source": [
    "## Create local spark session"
   ]
  },
  {
   "cell_type": "code",
   "execution_count": 2,
   "metadata": {},
   "outputs": [
    {
     "name": "stderr",
     "output_type": "stream",
     "text": [
      "24/11/09 15:47:40 WARN Utils: Your hostname, macbook.local resolves to a loopback address: 127.0.0.1; using 192.168.86.51 instead (on interface en0)\n",
      "24/11/09 15:47:40 WARN Utils: Set SPARK_LOCAL_IP if you need to bind to another address\n",
      "Setting default log level to \"WARN\".\n",
      "To adjust logging level use sc.setLogLevel(newLevel). For SparkR, use setLogLevel(newLevel).\n",
      "24/11/09 15:47:40 WARN NativeCodeLoader: Unable to load native-hadoop library for your platform... using builtin-java classes where applicable\n"
     ]
    }
   ],
   "source": [
    "local_conf = SparkConf().setAll([\n",
    "    (\"spark.app.name\", 'local_spark_app'),\n",
    "    (\"spark.master\", \"local[*]\"),\n",
    "    (\"spark.sql.caseSensitive\", False)\n",
    "])\n",
    "\n",
    "local_spark: SparkSession = SparkSession.builder.config(conf=local_conf).getOrCreate()\n",
    "\n",
    "sc: SparkContext = local_spark.sparkContext"
   ]
  },
  {
   "cell_type": "markdown",
   "metadata": {},
   "source": [
    "## Load data"
   ]
  },
  {
   "cell_type": "code",
   "execution_count": 3,
   "metadata": {},
   "outputs": [
    {
     "data": {
      "text/plain": [
       "DataFrame[app_id: bigint, title: string, release_date: string, genres: string, categories: string, developer: string, publisher: string, original_price: string, discount_percentage: string, discounted_price: string, dlc_available: int, age_rating: int, content_descriptor: string, about_description: string, win_support: boolean, mac_support: boolean, linux_support: boolean, awards: int, overall_review: string, overall_review_percentage: double, overall_review_count: double, recent_review: string, recent_review_percentage: double, recent_review_count: double]"
      ]
     },
     "execution_count": 3,
     "metadata": {},
     "output_type": "execute_result"
    },
    {
     "name": "stderr",
     "output_type": "stream",
     "text": [
      "24/11/09 15:47:54 WARN GarbageCollectionMetrics: To enable non-built-in garbage collector(s) List(G1 Concurrent GC), users should configure it(them) to spark.eventLog.gcMetrics.youngGenerationGarbageCollectors or spark.eventLog.gcMetrics.oldGenerationGarbageCollectors\n"
     ]
    }
   ],
   "source": [
    "game_reviews = local_spark.read.parquet(\"data/steam_reviews_sample_parquet\")\n",
    "game_reviews.persist()\n",
    "\n",
    "games = local_spark.read.parquet(\"data/steam_games_parquet\")\n",
    "games.persist()"
   ]
  },
  {
   "cell_type": "code",
   "execution_count": null,
   "metadata": {},
   "outputs": [],
   "source": [
    "review_schema = StructType([\n",
    "    StructField(\"index\", IntegerType(), True),\n",
    "    StructField(\"app_id\", LongType(), True),\n",
    "    StructField(\"app_name\", StringType(), True),\n",
    "    StructField(\"review_id\", LongType(), True),\n",
    "    StructField(\"language\", StringType(), True),\n",
    "    StructField(\"review\", StringType(), True),\n",
    "    StructField(\"timestamp_created\", IntegerType(), True),\n",
    "    StructField(\"timestamp_updated\", IntegerType(), True),\n",
    "    StructField(\"recommended\", BooleanType(), True),\n",
    "    StructField(\"votes_helpful\", IntegerType(), True),\n",
    "    StructField(\"votes_funny\", IntegerType(), True),\n",
    "    StructField(\"weighted_vote_score\", DoubleType(), True),\n",
    "    StructField(\"comment_count\", IntegerType(), True),\n",
    "    StructField(\"steam_purchase\", BooleanType(), True),\n",
    "    StructField(\"received_for_free\", BooleanType(), True),\n",
    "    StructField(\"written_during_early_access\", BooleanType(), True),\n",
    "    StructField(\"author_steamid\", LongType(), True),\n",
    "    StructField(\"author_num_games_owned\", IntegerType(), True),\n",
    "    StructField(\"author_num_reviews\", IntegerType(), True),\n",
    "    StructField(\"author_playtime_forever\", DoubleType(), True),\n",
    "    StructField(\"author_playtime_last_two_weeks\", DoubleType(), True),\n",
    "    StructField(\"author_playtime_at_review\", DoubleType(), True),\n",
    "    StructField(\"author_last_played\", DoubleType(), True)\n",
    "])\n",
    "\n",
    "# Read csv comma separated with specified schema\n",
    "# game_reviews = spark.read.csv('file:////work/ds/steam_reviews_flattened.csv', header=True, schema=review_schema)\n",
    "\n",
    "game_reviews = spark.read.parquet(\"file:////work/ds/steam_reviews_parquet\")\n",
    "game_reviews: DataFrame = game_reviews.persist()"
   ]
  },
  {
   "cell_type": "code",
   "execution_count": null,
   "metadata": {},
   "outputs": [],
   "source": [
    "game_reviews_sample = game_reviews.sample(False, 100000/(21 * 10 ** 6))\n",
    "game_reviews_sample = game_reviews_sample.persist()\n",
    "\n",
    "game_reviews_sample.show()"
   ]
  },
  {
   "cell_type": "code",
   "execution_count": null,
   "metadata": {},
   "outputs": [],
   "source": [
    "game_schema = StructType([\n",
    "    StructField(\"app_id\", LongType(), True),\n",
    "    StructField(\"title\", StringType(), True),\n",
    "    StructField(\"release_date\", StringType(), True),\n",
    "    StructField(\"genres\", StringType(), True),\n",
    "    StructField(\"categories\", StringType(), True),\n",
    "    StructField(\"developer\", StringType(), True),\n",
    "    StructField(\"publisher\", StringType(), True),\n",
    "    StructField(\"original_price\", StringType(), True),\n",
    "    StructField(\"discount_percentage\", StringType(), True),\n",
    "    StructField(\"discounted_price\", StringType(), True),\n",
    "    StructField(\"dlc_available\", IntegerType(), True),\n",
    "    StructField(\"age_rating\", IntegerType(), True),\n",
    "    StructField(\"content_descriptor\", StringType(), True),\n",
    "    StructField(\"about_description\", StringType(), True),\n",
    "    StructField(\"win_support\", BooleanType(), True),\n",
    "    StructField(\"mac_support\", BooleanType(), True),\n",
    "    StructField(\"linux_support\", BooleanType(), True),\n",
    "    StructField(\"awards\", IntegerType(), True),\n",
    "    StructField(\"overall_review\", StringType(), True),\n",
    "    StructField(\"overall_review_percentage\", DoubleType(), True),\n",
    "    StructField(\"overall_review_count\", DoubleType(), True),\n",
    "    StructField(\"recent_review\", StringType(), True),\n",
    "    StructField(\"recent_review_percentage\", DoubleType(), True),\n",
    "    StructField(\"recent_review_count\", DoubleType(), True)\n",
    "])\n",
    "\n",
    "games = spark.read.csv('file:////work/ds/steam-games.csv', header=True, schema=game_schema)\n",
    "games = games.persist()"
   ]
  },
  {
   "cell_type": "code",
   "execution_count": null,
   "metadata": {},
   "outputs": [],
   "source": [
    "game_reviews.write.parquet(\"file:////work/ds/steam_reviews_parquet\")"
   ]
  },
  {
   "cell_type": "code",
   "execution_count": null,
   "metadata": {},
   "outputs": [],
   "source": [
    "games.write.parquet(\"file:////work/ds/steam_games_parquet\")"
   ]
  },
  {
   "cell_type": "code",
   "execution_count": 7,
   "metadata": {},
   "outputs": [
    {
     "data": {
      "text/plain": [
       "314"
      ]
     },
     "execution_count": 7,
     "metadata": {},
     "output_type": "execute_result"
    }
   ],
   "source": [
    "game_reviews\\\n",
    "    .select(game_reviews.app_id)\\\n",
    "    .distinct()\\\n",
    "    .count()"
   ]
  },
  {
   "cell_type": "code",
   "execution_count": 4,
   "metadata": {},
   "outputs": [
    {
     "name": "stderr",
     "output_type": "stream",
     "text": [
      "                                                                                \r"
     ]
    },
    {
     "name": "stdout",
     "output_type": "stream",
     "text": [
      "+--------+------+--------------------+---------+--------+----------------------------------+-----------------+-----------------+-----------+-------------+-----------+-------------------+-------------+--------------+-----------------+---------------------------+-----------------+----------------------+------------------+-----------------------+------------------------------+-------------------------+------------------+\n",
      "|   index|app_id|            app_name|review_id|language|                            review|timestamp_created|timestamp_updated|recommended|votes_helpful|votes_funny|weighted_vote_score|comment_count|steam_purchase|received_for_free|written_during_early_access|   author_steamid|author_num_games_owned|author_num_reviews|author_playtime_forever|author_playtime_last_two_weeks|author_playtime_at_review|author_last_played|\n",
      "+--------+------+--------------------+---------+--------+----------------------------------+-----------------+-----------------+-----------+-------------+-----------+-------------------+-------------+--------------+-----------------+---------------------------+-----------------+----------------------+------------------+-----------------------+------------------------------+-------------------------+------------------+\n",
      "|20067246|489830|The Elder Scrolls...| 35516587|schinese|波兰蠢驴CD是游戏界的良心企业.你...|       1507290896|       1507290896|      false|           92|          7| 0.8178738355636594|            0|         false|            false|                      false|76561198048250002|                  7861|                62|                   43.0|                           0.0|                     43.0|     1.507290906E9|\n",
      "|20067393|489830|The Elder Scrolls...| 35494739|  german|                     Creation Club|       1507208757|       1507208757|      false|            1|          0| 0.5022624731063843|            0|         false|            false|                      false|76561197988779400|                   354|                19|                   89.0|                           0.0|                     89.0|      1.47775304E9|\n",
      "|20067394|489830|The Elder Scrolls...| 35494441|schinese|        求求b社了，你们可要点b脸吧|       1507207812|       1507207812|      false|            2|          0| 0.5053272247314452|            0|          true|            false|                      false|76561198297174731|                    87|                 3|                15308.0|                           0.0|                  13359.0|     1.600263213E9|\n",
      "|20067764|489830|The Elder Scrolls...| 35453430| english|              Creation club has...|       1507054350|       1507054350|       true|            1|          0| 0.4843506515026093|            0|         false|             true|                      false|76561198060075187|                   380|                15|                  408.0|                           0.0|                    325.0|     1.599336901E9|\n",
      "|20067860|489830|The Elder Scrolls...| 35438610|schinese|                为什么我的是英文的|       1507016583|       1507016583|       true|            0|          1|                0.0|            0|          true|            false|                      false|76561198257972050|                   104|                 6|                  353.0|                           0.0|                    152.0|     1.550846981E9|\n",
      "+--------+------+--------------------+---------+--------+----------------------------------+-----------------+-----------------+-----------+-------------+-----------+-------------------+-------------+--------------+-----------------+---------------------------+-----------------+----------------------+------------------+-----------------------+------------------------------+-------------------------+------------------+\n",
      "only showing top 5 rows\n",
      "\n"
     ]
    }
   ],
   "source": [
    "game_reviews\\\n",
    "    .show(5)"
   ]
  },
  {
   "cell_type": "code",
   "execution_count": 14,
   "metadata": {},
   "outputs": [
    {
     "data": {
      "text/plain": [
       "46026"
      ]
     },
     "execution_count": 14,
     "metadata": {},
     "output_type": "execute_result"
    }
   ],
   "source": [
    "game_reviews\\\n",
    "    .select(game_reviews.app_id)\\\n",
    "    .filter(game_reviews.language == 'english')\\\n",
    "    .count()"
   ]
  },
  {
   "cell_type": "markdown",
   "metadata": {},
   "source": [
    "## Most reviewed games"
   ]
  },
  {
   "cell_type": "code",
   "execution_count": 27,
   "metadata": {},
   "outputs": [],
   "source": [
    "most_reviewed = game_reviews\\\n",
    "    .groupBy(game_reviews.app_id)\\\n",
    "    .agg(\n",
    "        F.count('review_id').alias('review_count'),\n",
    "        F.count(\n",
    "            F.when(game_reviews.recommended == True, 1)\n",
    "        ).alias('recommended_count'),\n",
    "        F.count(\n",
    "            F.when(game_reviews.recommended == False, 1)\n",
    "        ).alias('not_recommended_count')\n",
    "    )\\\n",
    "    .withColumn(\n",
    "        'recommended_ratio',\n",
    "        F.col('recommended_count') / F.col('review_count')\n",
    "    )\\\n",
    "    .withColumn(\n",
    "        'not_recommended_ratio',\n",
    "        F.col('not_recommended_count') / F.col('review_count')\n",
    "    )\\\n",
    "    .withColumn(\n",
    "        'recommended_to_not_recommended_ratio',\n",
    "        F.col('recommended_count') / F.col('not_recommended_count')\n",
    "    )\n",
    "\n",
    "most_reviewed_games = most_reviewed\\\n",
    "    .join(games, most_reviewed.app_id == games.app_id)\n"
   ]
  },
  {
   "cell_type": "code",
   "execution_count": 6,
   "metadata": {},
   "outputs": [
    {
     "name": "stdout",
     "output_type": "stream",
     "text": [
      "+-------------------------------+------------+------------------+------------------------------------+\n",
      "|title                          |review_count|recommended_ratio |recommended_to_not_recommended_ratio|\n",
      "+-------------------------------+------------+------------------+------------------------------------+\n",
      "|PUBG: BATTLEGROUNDS            |7801        |0.5369824381489553|1.188706015891033                   |\n",
      "|Grand Theft Auto V             |4852        |0.8194558944765046|4.807738814993954                   |\n",
      "|Tom Clancy's Rainbow Six® Siege|3950        |0.8754430379746836|7.684444444444445                   |\n",
      "|Terraria                       |3317        |0.9656315948145915|43.28378378378378                   |\n",
      "|Garry's Mod                    |3072        |0.9612630208333334|28.95098039215686                   |\n",
      "+-------------------------------+------------+------------------+------------------------------------+\n",
      "only showing top 5 rows\n",
      "\n"
     ]
    }
   ],
   "source": [
    "most_reviewed_games\\\n",
    "    .select('title', 'review_count', 'recommended_ratio', 'recommended_to_not_recommended_ratio')\\\n",
    "    .orderBy(F.desc('review_count'))\\\n",
    "    .show(\n",
    "        5,\n",
    "        truncate=False\n",
    "    )"
   ]
  },
  {
   "cell_type": "code",
   "execution_count": 7,
   "metadata": {},
   "outputs": [
    {
     "name": "stdout",
     "output_type": "stream",
     "text": [
      "+-------------------------------+------------+-------------------+------------------------------------+\n",
      "|title                          |review_count|recommended_ratio  |recommended_to_not_recommended_ratio|\n",
      "+-------------------------------+------------+-------------------+------------------------------------+\n",
      "|ATLAS                          |155         |0.4129032258064516 |0.7441860465116279                  |\n",
      "|Call of Duty®: Infinite Warfare|116         |0.45689655172413796|0.8983050847457628                  |\n",
      "|Artifact                       |109         |0.4954128440366973 |1.0588235294117647                  |\n",
      "|PUBG: BATTLEGROUNDS            |7801        |0.5369824381489553 |1.188706015891033                   |\n",
      "|Call of Duty®: WWII            |130         |0.6153846153846154 |1.8604651162790697                  |\n",
      "+-------------------------------+------------+-------------------+------------------------------------+\n",
      "only showing top 5 rows\n",
      "\n"
     ]
    }
   ],
   "source": [
    "most_reviewed_games\\\n",
    "    .select('title', 'review_count', 'recommended_ratio', 'recommended_to_not_recommended_ratio')\\\n",
    "    .filter(F.col('recommended_to_not_recommended_ratio').isNotNull())\\\n",
    "    .filter(F.col('review_count') > 100)\\\n",
    "    .orderBy(F.asc('recommended_to_not_recommended_ratio'))\\\n",
    "    .show(\n",
    "        5,\n",
    "        truncate=False\n",
    "    )"
   ]
  },
  {
   "cell_type": "markdown",
   "metadata": {},
   "source": [
    "## Histogram of review_count"
   ]
  },
  {
   "cell_type": "code",
   "execution_count": 28,
   "metadata": {},
   "outputs": [],
   "source": [
    "most_reviewed_games_pdf = most_reviewed_games.toPandas()"
   ]
  },
  {
   "cell_type": "code",
   "execution_count": 36,
   "metadata": {},
   "outputs": [
    {
     "data": {
      "image/png": "[encoded data removed]",
      "text/plain": [
       "<Figure size 640x480 with 1 Axes>"
      ]
     },
     "metadata": {},
     "output_type": "display_data"
    }
   ],
   "source": [
    "sns.scatterplot(\n",
    "    x='review_count',\n",
    "    y='recommended_to_not_recommended_ratio',\n",
    "    data=most_reviewed_games_pdf\n",
    ")\n",
    "\n",
    "plt.xlabel('Review count')\n",
    "plt.ylabel('Recommended to not recommended ratio')\n",
    "plt.title('Review count vs recommended to not recommended ratio')\n",
    "plt.show()"
   ]
  },
  {
   "cell_type": "code",
   "execution_count": 41,
   "metadata": {},
   "outputs": [
    {
     "data": {
      "image/png": "[encoded data removed]",
      "text/plain": [
       "<Figure size 640x480 with 1 Axes>"
      ]
     },
     "metadata": {},
     "output_type": "display_data"
    }
   ],
   "source": [
    "sns.histplot(\n",
    "    most_reviewed_games_pdf['recommended_ratio'],\n",
    "    bins=80,\n",
    "    kde=True\n",
    ")\n",
    "plt.xlabel('Recommended Ratio')\n",
    "plt.ylabel('Frequency')\n",
    "plt.title('Histogram of review count')\n",
    "plt.show()"
   ]
  },
  {
   "cell_type": "code",
   "execution_count": null,
   "metadata": {},
   "outputs": [
    {
     "name": "stdout",
     "output_type": "stream",
     "text": [
      "+------+-----------------+------------+\n",
      "|app_id|   author_steamid|review_count|\n",
      "+------+-----------------+------------+\n",
      "|262060|76561197989818284|           1|\n",
      "|524220|76561198314474443|           1|\n",
      "|524220|76561198008602929|           1|\n",
      "|872790|76561198132311458|           1|\n",
      "|613100|76561197981402300|           1|\n",
      "+------+-----------------+------------+\n",
      "only showing top 5 rows\n",
      "\n"
     ]
    }
   ],
   "source": [
    "game_reviews\\\n",
    "    .filter(game_reviews.author_steamid > 100)\\\n",
    "    .groupBy(game_reviews.app_id, game_reviews.author_steamid)\\\n",
    "    .agg(\n",
    "        F.count('review_id').alias('review_count'),\n",
    "    )\\\n",
    "    .orderBy(F.desc('review_count'))\\\n",
    "    .show(\n",
    "        5\n",
    "    )"
   ]
  },
  {
   "cell_type": "code",
   "execution_count": 61,
   "metadata": {},
   "outputs": [
    {
     "data": {
      "text/plain": [
       "0"
      ]
     },
     "execution_count": 61,
     "metadata": {},
     "output_type": "execute_result"
    }
   ],
   "source": [
    "game_reviews\\\n",
    "    .filter(F.col(\"app_id\").isNull())\\\n",
    "    .count()"
   ]
  },
  {
   "cell_type": "markdown",
   "metadata": {},
   "source": [
    "# Collaborative filtering"
   ]
  },
  {
   "cell_type": "markdown",
   "metadata": {},
   "source": [
    "## ALS model"
   ]
  },
  {
   "cell_type": "code",
   "execution_count": 67,
   "metadata": {},
   "outputs": [],
   "source": [
    "from pyspark.ml.recommendation import ALS\n",
    "from pyspark.ml.feature import StringIndexer\n",
    "\n",
    "game_ratings = game_reviews\\\n",
    "    .filter(F.col(\"author_steamid\").isNotNull())\\\n",
    "    .withColumn(\n",
    "        'rating',\n",
    "        F.when(game_reviews.recommended == True, 1).otherwise(-1)\n",
    "    )\n",
    "\n",
    "user_indexer = StringIndexer(inputCol=\"author_steamid\", outputCol=\"user_index\")\n",
    "game_ratings = user_indexer.fit(game_ratings).transform(game_ratings)\n",
    "\n",
    "reviews_train, reviews_test = game_ratings\\\n",
    "    .randomSplit([0.8, 0.2], seed=1234)\n",
    "\n",
    "als = ALS(\n",
    "    maxIter=5,\n",
    "    rank=10,\n",
    "    regParam=0.01,\n",
    "    userCol=\"user_index\",\n",
    "    itemCol=\"app_id\",\n",
    "    ratingCol=\"rating\",\n",
    "    coldStartStrategy=\"drop\"\n",
    ")"
   ]
  },
  {
   "cell_type": "code",
   "execution_count": 68,
   "metadata": {},
   "outputs": [
    {
     "name": "stderr",
     "output_type": "stream",
     "text": [
      "24/11/09 17:58:51 WARN DAGScheduler: Broadcasting large task binary with size 4.7 MiB\n",
      "24/11/09 17:58:52 WARN DAGScheduler: Broadcasting large task binary with size 4.7 MiB\n",
      "24/11/09 17:58:52 WARN DAGScheduler: Broadcasting large task binary with size 4.7 MiB\n",
      "24/11/09 17:58:52 WARN DAGScheduler: Broadcasting large task binary with size 4.7 MiB\n",
      "24/11/09 17:58:53 WARN DAGScheduler: Broadcasting large task binary with size 4.7 MiB\n",
      "24/11/09 17:58:53 WARN DAGScheduler: Broadcasting large task binary with size 4.7 MiB\n",
      "24/11/09 17:58:53 WARN DAGScheduler: Broadcasting large task binary with size 4.7 MiB\n",
      "24/11/09 17:58:54 WARN DAGScheduler: Broadcasting large task binary with size 4.7 MiB\n",
      "24/11/09 17:58:54 WARN DAGScheduler: Broadcasting large task binary with size 4.7 MiB\n",
      "24/11/09 17:58:54 WARN DAGScheduler: Broadcasting large task binary with size 4.7 MiB\n",
      "24/11/09 17:58:54 WARN DAGScheduler: Broadcasting large task binary with size 4.7 MiB\n",
      "24/11/09 17:58:55 WARN DAGScheduler: Broadcasting large task binary with size 4.7 MiB\n",
      "24/11/09 17:58:55 WARN DAGScheduler: Broadcasting large task binary with size 4.7 MiB\n",
      "24/11/09 17:58:55 WARN DAGScheduler: Broadcasting large task binary with size 4.7 MiB\n",
      "24/11/09 17:58:55 WARN DAGScheduler: Broadcasting large task binary with size 4.7 MiB\n",
      "24/11/09 17:58:55 WARN DAGScheduler: Broadcasting large task binary with size 4.7 MiB\n",
      "24/11/09 17:58:56 WARN DAGScheduler: Broadcasting large task binary with size 4.7 MiB\n",
      "24/11/09 17:58:56 WARN DAGScheduler: Broadcasting large task binary with size 4.7 MiB\n",
      "24/11/09 17:58:56 WARN SparkStringUtils: Truncated the string representation of a plan since it was too large. This behavior can be adjusted by setting 'spark.sql.debug.maxToStringFields'.\n"
     ]
    }
   ],
   "source": [
    "model = als.fit(reviews_train)\n",
    "\n",
    "predictions = model.transform(reviews_test).cache()"
   ]
  },
  {
   "cell_type": "code",
   "execution_count": 81,
   "metadata": {},
   "outputs": [
    {
     "name": "stderr",
     "output_type": "stream",
     "text": [
      "24/11/09 18:13:20 WARN DAGScheduler: Broadcasting large task binary with size 2030.8 KiB\n",
      "24/11/09 18:13:20 WARN DAGScheduler: Broadcasting large task binary with size 2030.8 KiB\n",
      "24/11/09 18:13:20 WARN DAGScheduler: Broadcasting large task binary with size 2030.8 KiB\n"
     ]
    },
    {
     "name": "stdout",
     "output_type": "stream",
     "text": [
      "+------+----------+\n",
      "|rating|prediction|\n",
      "+------+----------+\n",
      "|     1|       1.0|\n",
      "|     1|      -1.0|\n",
      "|     1|       1.0|\n",
      "|     1|       1.0|\n",
      "|     1|      -1.0|\n",
      "|    -1|       1.0|\n",
      "|     1|       1.0|\n",
      "|     1|       1.0|\n",
      "|     1|       1.0|\n",
      "|     1|       1.0|\n",
      "|     1|       1.0|\n",
      "|     1|       1.0|\n",
      "|     1|       1.0|\n",
      "|     1|       1.0|\n",
      "|    -1|       1.0|\n",
      "|     1|      -1.0|\n",
      "|    -1|      -1.0|\n",
      "|     1|      -1.0|\n",
      "|     1|       1.0|\n",
      "|    -1|      -1.0|\n",
      "+------+----------+\n",
      "only showing top 20 rows\n",
      "\n"
     ]
    }
   ],
   "source": [
    "# Round predictions to -1 or 1\n",
    "rounded_pred = predictions\\\n",
    "    .withColumn(\n",
    "        'prediction',\n",
    "        F.when(F.col('prediction') > 0, 1.).otherwise(-1.)\n",
    "    )\\\n",
    "    .select('rating', 'prediction')\\\n",
    "\n",
    "rounded_pred.show()"
   ]
  },
  {
   "cell_type": "code",
   "execution_count": null,
   "metadata": {},
   "outputs": [
    {
     "name": "stderr",
     "output_type": "stream",
     "text": [
      "24/11/09 18:11:15 WARN DAGScheduler: Broadcasting large task binary with size 2042.9 KiB\n",
      "24/11/09 18:11:17 WARN DAGScheduler: Broadcasting large task binary with size 2044.0 KiB\n",
      "                                                                                \r"
     ]
    },
    {
     "name": "stdout",
     "output_type": "stream",
     "text": [
      "Root-mean-square error = 1.0532687216470449\n"
     ]
    },
    {
     "name": "stderr",
     "output_type": "stream",
     "text": [
      "24/11/09 18:11:17 WARN DAGScheduler: Broadcasting large task binary with size 2034.4 KiB\n",
      "24/11/09 18:11:19 WARN DAGScheduler: Broadcasting large task binary with size 2031.4 KiB\n",
      "[Stage 248:======================================>             (147 + 10) / 200]\r"
     ]
    },
    {
     "name": "stdout",
     "output_type": "stream",
     "text": [
      "Accuracy = 0.72265625\n"
     ]
    },
    {
     "name": "stderr",
     "output_type": "stream",
     "text": [
      "                                                                                \r"
     ]
    }
   ],
   "source": [
    "# Calculate RMSE\n",
    "from pyspark.ml.evaluation import RegressionEvaluator\n",
    "\n",
    "evaluator = RegressionEvaluator(\n",
    "    metricName=\"rmse\",\n",
    "    labelCol=\"rating\",\n",
    "    predictionCol=\"prediction\"\n",
    ")\n",
    "\n",
    "rmse = evaluator.evaluate(rounded_pred)\n",
    "print(f\"Root-mean-square error = {rmse}\")\n",
    "\n",
    "# Calculate accuracy\n",
    "correct = rounded_pred\\\n",
    "    .filter(F.col('rating') == F.col('prediction'))\\\n",
    "    .count()\n",
    "\n",
    "total = rounded_pred.count()\n",
    "\n",
    "accuracy = correct / total\n",
    "\n",
    "print(f\"Accuracy = {accuracy}\")"
   ]
  },
  {
   "cell_type": "markdown",
   "metadata": {},
   "source": [
    "# Content based filtering"
   ]
  },
  {
   "cell_type": "code",
   "execution_count": null,
   "metadata": {},
   "outputs": [],
   "source": []
  }
 ],
 "metadata": {
  "kernelspec": {
   "display_name": ".venv",
   "language": "python",
   "name": "python3"
  },
  "language_info": {
   "codemirror_mode": {
    "name": "ipython",
    "version": 3
   },
   "file_extension": ".py",
   "mimetype": "text/x-python",
   "name": "python",
   "nbconvert_exporter": "python",
   "pygments_lexer": "ipython3",
   "version": "3.13.0"
  }
 },
 "nbformat": 4,
 "nbformat_minor": 2
}
