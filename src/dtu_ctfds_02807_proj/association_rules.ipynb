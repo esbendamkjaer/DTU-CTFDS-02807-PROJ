{
 "cells": [
  {
   "cell_type": "markdown",
   "metadata": {},
   "source": [
    "# Imports"
   ]
  },
  {
   "cell_type": "code",
   "execution_count": 13,
   "metadata": {},
   "outputs": [],
   "source": [
    "from pyspark.sql import DataFrame, functions as F\n",
    "from pyspark.sql.types import StructType, StructField, StringType, IntegerType, FloatType, BooleanType, LongType, DoubleType, ArrayType, DateType, MapType\n",
    "from matplotlib import pyplot as plt\n",
    "import seaborn as sns\n",
    "from pyspark.ml.feature import Tokenizer, StopWordsRemover, HashingTF, IDF, MinHashLSH, MinHashLSHModel, CountVectorizer, VectorAssembler\n",
    "from pyspark.ml import Pipeline\n",
    "from pyspark.ml.stat import Summarizer\n",
    "from pyspark.ml.linalg import DenseVector\n",
    "from pyspark.sql.functions import col\n",
    "import pandas as pd\n",
    "import numpy as np\n",
    "from pyspark.ml.fpm import FPGrowth\n",
    "from pyspark.sql import DataFrame, functions as F\n",
    "from pyspark.sql.types import StructType, StructField, StringType, IntegerType, FloatType, BooleanType, LongType, DoubleType, ArrayType, DateType, MapType\n",
    "from pyspark.ml.feature import Bucketizer\n",
    "from matplotlib import pyplot as plt\n",
    "import seaborn as sns\n",
    "from pyspark.ml.feature import Tokenizer, StopWordsRemover, HashingTF, IDF, MinHashLSH, MinHashLSHModel, CountVectorizer, VectorAssembler\n",
    "from pyspark.ml import Pipeline\n",
    "from pyspark.ml.stat import Summarizer\n",
    "from pyspark.ml.linalg import DenseVector\n",
    "from pyspark.sql.functions import col\n",
    "import pandas as pd\n",
    "import numpy as np\n",
    "from pyspark.sql import Window\n",
    "from pyspark.ml.recommendation import ALS\n",
    "from pyspark.ml.feature import StringIndexer\n",
    "from pyspark.ml.recommendation import ALSModel\n",
    "from pyspark.ml.recommendation import ALS\n",
    "from pyspark.ml.tuning import ParamGridBuilder, CrossValidator\n",
    "from pyspark.ml.evaluation import RegressionEvaluator\n",
    "from pyspark.ml.fpm import FPGrowth\n",
    "from pyspark.mllib.evaluation import RankingMetrics"
   ]
  },
  {
   "cell_type": "markdown",
   "metadata": {},
   "source": [
    "## Create Spark session"
   ]
  },
  {
   "cell_type": "code",
   "execution_count": 14,
   "metadata": {},
   "outputs": [
    {
     "name": "stdout",
     "output_type": "stream",
     "text": [
      "Already been executed once, not running again!\n"
     ]
    }
   ],
   "source": [
    "from dtu_ctfds_02807_proj.context_creation import create_context\n",
    "\n",
    "local = True\n",
    "sc, spark = create_context(local)"
   ]
  },
  {
   "cell_type": "markdown",
   "metadata": {},
   "source": [
    "# Load data"
   ]
  },
  {
   "cell_type": "code",
   "execution_count": 15,
   "metadata": {},
   "outputs": [],
   "source": [
    "if local:\n",
    "    game_reviews = spark.read.parquet('data/many_reviews_users_parquet')\n",
    "    games = spark.read.parquet(\"data/steam_games_parquet\")\n",
    "else:\n",
    "    game_reviews = spark.read.parquet(\"file:////work/ds/steam_reviews_parquet\")\n",
    "    games = spark.read.parquet('file:////work/ds/steam_games_parquet')\n",
    "    \n",
    "\n",
    "game_reviews: DataFrame = game_reviews.persist()\n",
    "games: DataFrame = games.persist()"
   ]
  },
  {
   "cell_type": "code",
   "execution_count": 16,
   "metadata": {},
   "outputs": [],
   "source": [
    "positive_reviews = game_reviews.filter(game_reviews.recommended == True)\n",
    "\n",
    "unique_users = positive_reviews.select(\"author_steamid\").distinct()\n",
    "\n",
    "# Randomly split the unique users into train and test sets\n",
    "users_train, users_test = unique_users.randomSplit([0.8, 0.2], seed=42)\n",
    "\n",
    "# Join back to filter the original DataFrame\n",
    "reviews_train = positive_reviews.join(users_train, on=\"author_steamid\", how=\"inner\")\n",
    "reviews_test = positive_reviews.join(users_test, on=\"author_steamid\", how=\"inner\")"
   ]
  },
  {
   "cell_type": "code",
   "execution_count": 18,
   "metadata": {},
   "outputs": [
    {
     "name": "stderr",
     "output_type": "stream",
     "text": [
      "                                                                                \r"
     ]
    },
    {
     "name": "stdout",
     "output_type": "stream",
     "text": [
      "+-----------------------------------------------+----+\n",
      "|items                                          |freq|\n",
      "+-----------------------------------------------+----+\n",
      "|[Freeman: Guerrilla Warfare]                   |626 |\n",
      "|[Bloons TD 6]                                  |1983|\n",
      "|[Bloons TD 6, Among Us]                        |724 |\n",
      "|[Bloons TD 6, Tom Clancy's Rainbow Six Siege]  |671 |\n",
      "|[Bloons TD 6, PAYDAY 2]                        |585 |\n",
      "|[Bloons TD 6, Terraria]                        |1027|\n",
      "|[Bloons TD 6, Grand Theft Auto V]              |627 |\n",
      "|[Bloons TD 6, Garry's Mod]                     |849 |\n",
      "|[Bloons TD 6, Wallpaper Engine]                |598 |\n",
      "|[Borderlands 3]                                |2787|\n",
      "|[Borderlands 3, Dying Light]                   |755 |\n",
      "|[Borderlands 3, Fallout 4]                     |760 |\n",
      "|[Borderlands 3, Tom Clancy's Rainbow Six Siege]|753 |\n",
      "|[Borderlands 3, PAYDAY 2]                      |665 |\n",
      "|[Borderlands 3, Terraria]                      |755 |\n",
      "|[Borderlands 3, DARK SOULS™ III]               |755 |\n",
      "|[Borderlands 3, Grand Theft Auto V]            |915 |\n",
      "|[Borderlands 3, DOOM]                          |789 |\n",
      "|[Borderlands 3, Monster Hunter: World]         |740 |\n",
      "|[Borderlands 3, Wallpaper Engine]              |624 |\n",
      "+-----------------------------------------------+----+\n",
      "only showing top 20 rows\n",
      "\n"
     ]
    },
    {
     "name": "stderr",
     "output_type": "stream",
     "text": [
      "[Stage 239:==============>                                          (2 + 6) / 8]\r"
     ]
    },
    {
     "name": "stdout",
     "output_type": "stream",
     "text": [
      "+----------------------------------------------------------------------------+--------------------------------+------------------+------------------+--------------------+\n",
      "|antecedent                                                                  |consequent                      |confidence        |lift              |support             |\n",
      "+----------------------------------------------------------------------------+--------------------------------+------------------+------------------+--------------------+\n",
      "|[Arma 3, PLAYERUNKNOWN'S BATTLEGROUNDS]                                     |[Tom Clancy's Rainbow Six Siege]|0.5206310679611651|1.9783084843524341|0.014941748080037615|\n",
      "|[Arma 3, PLAYERUNKNOWN'S BATTLEGROUNDS]                                     |[Grand Theft Auto V]            |0.5266990291262136|1.7338132509467186|0.015115894328056703|\n",
      "|[Assassin's Creed Origins, Assassin's Creed Odyssey]                        |[The Witcher 3: Wild Hunt]      |0.612568639414277 |1.9171315119405945|0.017484283301116278|\n",
      "|[Castle Crashers, Terraria]                                                 |[Garry's Mod]                   |0.5572967678746327|2.1486271184144647|0.019817843024572037|\n",
      "|[The Forest, Terraria, Garry's Mod]                                         |[PAYDAY 2]                      |0.5064102564102564|2.1464124707592376|0.013757553593507828|\n",
      "|[PLAYERUNKNOWN'S BATTLEGROUNDS, PAYDAY 2, Garry's Mod, Grand Theft Auto V]  |[Tom Clancy's Rainbow Six Siege]|0.6421825813221406|2.440183322343917 |0.010657750378768089|\n",
      "|[DARK SOULS™: REMASTERED]                                                   |[DARK SOULS™ III]               |0.7059202059202059|3.3058274330905224|0.03820768681538756 |\n",
      "|[Just Cause 3, Garry's Mod]                                                 |[Grand Theft Auto V]            |0.5190005205622071|1.7084709293879625|0.01736238092750292 |\n",
      "|[PAYDAY 2, Terraria, Tom Clancy's Rainbow Six Siege, Grand Theft Auto V]    |[Garry's Mod]                   |0.6634199134199135|2.5577790847530344|0.010675165003569999|\n",
      "|[Rise of the Tomb Raider, Tomb Raider, Grand Theft Auto V]                  |[The Witcher 3: Wild Hunt]      |0.6199510403916769|1.9402359163075684|0.017641014924333454|\n",
      "|[Just Cause 3, PAYDAY 2]                                                    |[Grand Theft Auto V]            |0.5381088825214899|1.7713727563076997|0.016352332688992215|\n",
      "|[Just Cause 3, PAYDAY 2]                                                    |[Garry's Mod]                   |0.5472779369627507|2.110000065409698 |0.016630966685822753|\n",
      "|[Arma 3, Portal 2]                                                          |[PAYDAY 2]                      |0.5025380710659898|2.1300002697684035|0.010344287132333733|\n",
      "|[Arma 3, Portal 2]                                                          |[Garry's Mod]                   |0.6150592216582065|2.3713270904578483|0.012660432230987584|\n",
      "|[Among Us, Tom Clancy's Rainbow Six Siege]                                  |[Garry's Mod]                   |0.5171809256661991|1.9939626893064424|0.02568657158281525 |\n",
      "|[Assassin's Creed Odyssey, Sekiro™: Shadows Die Twice]                      |[The Witcher 3: Wild Hunt]      |0.5928500496524329|1.8554190321120372|0.01039653100673946 |\n",
      "|[Euro Truck Simulator 2, Tom Clancy's Rainbow Six Siege, Grand Theft Auto V]|[PAYDAY 2]                      |0.5022058823529412|2.1285922927629866|0.011894188739703604|\n",
      "|[PLAYERUNKNOWN'S BATTLEGROUNDS, The Forest, PAYDAY 2]                       |[Tom Clancy's Rainbow Six Siege]|0.5882926829268292|2.235410980128859 |0.010501018755550911|\n",
      "|[PLAYERUNKNOWN'S BATTLEGROUNDS, The Forest, PAYDAY 2]                       |[Grand Theft Auto V]            |0.6117073170731707|2.0136476306060924|0.010918969750796719|\n",
      "|[Rise of the Tomb Raider, DOOM, The Witcher 3: Wild Hunt]                   |[Tomb Raider]                   |0.5664739884393064|3.3010590458849496|0.01194643261410933 |\n",
      "+----------------------------------------------------------------------------+--------------------------------+------------------+------------------+--------------------+\n",
      "only showing top 20 rows\n",
      "\n"
     ]
    },
    {
     "name": "stderr",
     "output_type": "stream",
     "text": [
      "                                                                                \r"
     ]
    }
   ],
   "source": [
    "user_games_train = (\n",
    "    reviews_train.groupBy(\"author_steamid\")\n",
    "    .agg(F.collect_set(\"app_name\").alias(\"games\"))\n",
    "    .filter(col(\"games\").isNotNull())  # Ensure no null lists\n",
    ")\n",
    "\n",
    "# Step 3: Train the FP-Growth model\n",
    "fpGrowth = FPGrowth(itemsCol=\"games\", minSupport=0.01, minConfidence=0.5)\n",
    "model = fpGrowth.fit(user_games_train)\n",
    "\n",
    "# Step 4: Display frequent itemsets and association rules (optional)\n",
    "# Uncomment the lines below to view the frequent itemsets and rules\n",
    "frequent_itemsets = model.freqItemsets\n",
    "frequent_itemsets.show(truncate=False)\n",
    "\n",
    "association_rules = model.associationRules\n",
    "association_rules.show(truncate=False)"
   ]
  },
  {
   "cell_type": "code",
   "execution_count": 31,
   "metadata": {},
   "outputs": [
    {
     "name": "stderr",
     "output_type": "stream",
     "text": [
      "                                                                                \r"
     ]
    },
    {
     "name": "stdout",
     "output_type": "stream",
     "text": [
      "Precision@20: 0.3041675503711556\n",
      "Recall@20: 0.44367575986306856\n",
      "F1@20: 0.3609092096961965\n"
     ]
    }
   ],
   "source": [
    "# Step 5: Generate recommendations for the test set\n",
    "# Prepare the test set by grouping games for each user\n",
    "user_games_test = (\n",
    "    reviews_test.groupBy(\"author_steamid\")\n",
    "    .agg(F.collect_set(\"app_name\").alias(\"games\"))\n",
    "    .filter(col(\"games\").isNotNull())\n",
    ")\n",
    "\n",
    "# Generate recommendations based on association rules\n",
    "recommendations = (\n",
    "    user_games_test.alias(\"ug\")\n",
    "    .join(\n",
    "        model.associationRules.alias(\"ar\"),\n",
    "        F.expr(\"array_contains(ar.antecedent, ug.games[0])\"),  # Match antecedents with user games\n",
    "    )\n",
    "    .select(\n",
    "        col(\"ug.author_steamid\").alias(\"user_index\"),\n",
    "        col(\"ar.consequent\").alias(\"recommendations\"),\n",
    "        col(\"ar.confidence\"),\n",
    "    )\n",
    "    .groupBy(\"user_index\")\n",
    "    .agg(\n",
    "        F.collect_list(\"recommendations\").alias(\"all_recommendations\"),\n",
    "    )\n",
    ")\n",
    "\n",
    "# Flatten the recommendation lists and keep the top N recommendations by confidence\n",
    "N = 20  # Define N\n",
    "user_recommendations = recommendations.withColumn(\n",
    "    \"recommendations\", F.slice(F.flatten(col(\"all_recommendations\")), 1, N)\n",
    ").select(\"user_index\", \"recommendations\")\n",
    "\n",
    "# Step 6: Prepare ground truth data for the test set\n",
    "ground_truth = (\n",
    "    reviews_test.groupBy(\"author_steamid\")\n",
    "    .agg(F.collect_list(\"app_name\").alias(\"groundTruth\"))\n",
    "    .withColumnRenamed(\"author_steamid\", \"user_index\")\n",
    ")\n",
    "\n",
    "# Step 7: Join recommendations with ground truth\n",
    "recommendation_and_truth = user_recommendations.join(\n",
    "    ground_truth, on=\"user_index\"\n",
    ").select(\"recommendations\", \"groundTruth\")\n",
    "\n",
    "# Step 8: Convert data into an RDD of (predicted, actual) for RankingMetrics\n",
    "rdd_recommendation_truth = recommendation_and_truth.rdd.map(\n",
    "    lambda row: (row[\"recommendations\"], row[\"groundTruth\"])\n",
    ")\n",
    "\n",
    "# Step 9: Evaluate Precision@N, Recall@N, and F1@N using RankingMetrics\n",
    "metrics = RankingMetrics(rdd_recommendation_truth)\n",
    "\n",
    "recall_at_n = metrics.recallAt(N)\n",
    "precision_at_n = metrics.precisionAt(N)\n",
    "\n",
    "f1_at_n = (\n",
    "    2 * (precision_at_n * recall_at_n) / (precision_at_n + recall_at_n)\n",
    "    if (precision_at_n + recall_at_n) > 0\n",
    "    else 0\n",
    ")\n",
    "\n",
    "# Print evaluation results\n",
    "print(f\"Precision@{N}: {precision_at_n}\")\n",
    "print(f\"Recall@{N}: {recall_at_n}\")\n",
    "print(f\"F1@{N}: {f1_at_n}\")\n"
   ]
  },
  {
   "cell_type": "markdown",
   "metadata": {},
   "source": [
    "# The random case"
   ]
  },
  {
   "cell_type": "code",
   "execution_count": 33,
   "metadata": {},
   "outputs": [
    {
     "name": "stdout",
     "output_type": "stream",
     "text": [
      "Precision (Random): 0.04530308238799129\n",
      "Recall (Random): 0.06349206349206349\n",
      "F1 Score (Random): 0.0528771051336372\n"
     ]
    }
   ],
   "source": [
    "N = reviews_train.select(\"app_id\").distinct().count()\n",
    "# N = games.select(\"app_id\").distinct().count()\n",
    "R = reviews_test.filter(\n",
    "        F.col(\"recommended\") == True\n",
    "    )\\\n",
    "    .groupBy(\"author_steamid\")\\\n",
    "    .count()\\\n",
    "    .agg(F.avg(\"count\"))\\\n",
    "    .first()[0]\n",
    "\n",
    "# Parameters\n",
    "k = 20  # Number of random recommendations\n",
    "\n",
    "# Calculate Precision, Recall, and F1\n",
    "precision = R / N\n",
    "recall = k / N\n",
    "f1 = 2 * (precision * recall) / (precision + recall)\n",
    "\n",
    "print(f\"Precision (Random): {precision}\")\n",
    "print(f\"Recall (Random): {recall}\")\n",
    "print(f\"F1 Score (Random): {f1}\")"
   ]
  }
 ],
 "metadata": {
  "kernelspec": {
   "display_name": ".venv",
   "language": "python",
   "name": "python3"
  },
  "language_info": {
   "codemirror_mode": {
    "name": "ipython",
    "version": 3
   },
   "file_extension": ".py",
   "mimetype": "text/x-python",
   "name": "python",
   "nbconvert_exporter": "python",
   "pygments_lexer": "ipython3",
   "version": "3.10.15"
  }
 },
 "nbformat": 4,
 "nbformat_minor": 2
}
